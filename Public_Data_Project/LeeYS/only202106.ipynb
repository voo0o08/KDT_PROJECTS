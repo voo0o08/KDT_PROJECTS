{
 "cells": [
  {
   "cell_type": "markdown",
   "id": "e6b77547-1280-41b8-95cf-414f9e4ecfab",
   "metadata": {},
   "source": [
    "# only 국민연금 가입 data"
   ]
  },
  {
   "cell_type": "code",
   "execution_count": 1,
   "id": "26f5e9c4-517a-4559-b30b-5aa00a4f92fc",
   "metadata": {},
   "outputs": [],
   "source": [
    "import pandas as pd\n",
    "import numpy as np\n",
    "import csv\n",
    "import\tkoreanize_matplotlib\n",
    "import matplotlib.pyplot as plt"
   ]
  },
  {
   "cell_type": "markdown",
   "id": "b1b29b07-1c70-4581-b3f0-d117d5e6d550",
   "metadata": {},
   "source": [
    "## 국민연금 가입"
   ]
  },
  {
   "cell_type": "code",
   "execution_count": 15,
   "id": "72e420ef-65f5-4ad1-b984-019a01ba1a7e",
   "metadata": {},
   "outputs": [
    {
     "name": "stderr",
     "output_type": "stream",
     "text": [
      "C:\\Users\\kdp\\AppData\\Local\\Temp\\ipykernel_18144\\3747439663.py:2: DtypeWarning: Columns (13) have mixed types. Specify dtype option on import or set low_memory=False.\n",
      "  pensionDF = pd.read_csv(f1, encoding=\"cp949\")\n"
     ]
    }
   ],
   "source": [
    "f1 = \"국민연금 가입 사업장 내역_202106.csv\"\n",
    "pensionDF = pd.read_csv(f1, encoding=\"cp949\")"
   ]
  },
  {
   "cell_type": "code",
   "execution_count": 16,
   "id": "ad7dce18-7303-4b28-9e2f-c13c9d527011",
   "metadata": {
    "scrolled": true
   },
   "outputs": [
    {
     "data": {
      "text/html": [
       "<div>\n",
       "<style scoped>\n",
       "    .dataframe tbody tr th:only-of-type {\n",
       "        vertical-align: middle;\n",
       "    }\n",
       "\n",
       "    .dataframe tbody tr th {\n",
       "        vertical-align: top;\n",
       "    }\n",
       "\n",
       "    .dataframe thead th {\n",
       "        text-align: right;\n",
       "    }\n",
       "</style>\n",
       "<table border=\"1\" class=\"dataframe\">\n",
       "  <thead>\n",
       "    <tr style=\"text-align: right;\">\n",
       "      <th></th>\n",
       "      <th>자료생성년월(자격마감일(사유발생일이 속하는 달의 다음달 15일)까지 신고분 반영)</th>\n",
       "      <th>사업장명</th>\n",
       "      <th>사업자등록번호</th>\n",
       "      <th>사업장가입상태코드 1 등록 2 탈퇴</th>\n",
       "      <th>우편번호</th>\n",
       "      <th>사업장지번상세주소</th>\n",
       "      <th>사업장도로명상세주소</th>\n",
       "      <th>고객법정동주소코드</th>\n",
       "      <th>고객행정동주소코드</th>\n",
       "      <th>법정동주소광역시도코드</th>\n",
       "      <th>...</th>\n",
       "      <th>사업장형태구분코드 1 법인 2 개인</th>\n",
       "      <th>사업장업종코드</th>\n",
       "      <th>사업장업종코드명</th>\n",
       "      <th>적용일자</th>\n",
       "      <th>재등록일자</th>\n",
       "      <th>탈퇴일자</th>\n",
       "      <th>가입자수(고지인원 수 포함)</th>\n",
       "      <th>당월고지금액( 국민연금법 시행령 제5조에 의거 기준소득월액 상한액 적용으로 실제소득과 고지금액은 상이할 수 있음  상한액 2019.7.~2020.6. 4860000원(2019.7.1.기준) 상한액 2020.7.~2021.6. 5030000원(2020.7.1.기준) 상한액 2021.7.~2022.6.  5240000원(2021.7.1.기준) )</th>\n",
       "      <th>신규취득자수(납부재개 포함  전달 고지대상자와 비교하므로 실제 취득자와 상이할 수 있음(초일취득 고지 초일이 아닌경우. 미고지(다음달 취득자수에 반영))</th>\n",
       "      <th>상실가입자수(납부예외 포함  전달 고지대상자와 비교하므로 실제 퇴사자와 상이할 수 있음(초일이 아닌 상실자는 다음달 상실자수에 반영) 국민연금법 제6조 8조 동법 시행령 제18조에 의거 60세 도달하거나 퇴직연금수급자 조기노령연금 수급권을 취득한 자는 가입대상에서 제외되며 18세미만 기초수급자는 본인희망에 의해 제외될 수 있음)</th>\n",
       "    </tr>\n",
       "  </thead>\n",
       "  <tbody>\n",
       "    <tr>\n",
       "      <th>0</th>\n",
       "      <td>2021-05</td>\n",
       "      <td>우성기전(주)</td>\n",
       "      <td>126811</td>\n",
       "      <td>1</td>\n",
       "      <td>12816</td>\n",
       "      <td>경기도 광주시 도척면</td>\n",
       "      <td>경기도 광주시 도척면 도척윗로</td>\n",
       "      <td>4161033025</td>\n",
       "      <td>4161033025</td>\n",
       "      <td>41</td>\n",
       "      <td>...</td>\n",
       "      <td>1</td>\n",
       "      <td>292201</td>\n",
       "      <td>동력식 수지 공구 제조업</td>\n",
       "      <td>1988-01-01</td>\n",
       "      <td>NaN</td>\n",
       "      <td>NaN</td>\n",
       "      <td>5</td>\n",
       "      <td>792720</td>\n",
       "      <td>0</td>\n",
       "      <td>0</td>\n",
       "    </tr>\n",
       "    <tr>\n",
       "      <th>1</th>\n",
       "      <td>2021-05</td>\n",
       "      <td>서능공원묘지운영회(재)</td>\n",
       "      <td>102820</td>\n",
       "      <td>1</td>\n",
       "      <td>11191</td>\n",
       "      <td>경기도 포천시 내촌면</td>\n",
       "      <td></td>\n",
       "      <td>4165032022</td>\n",
       "      <td>4165032022</td>\n",
       "      <td>41</td>\n",
       "      <td>...</td>\n",
       "      <td>1</td>\n",
       "      <td>701700</td>\n",
       "      <td>화장터 운영  묘지 분양 및 관리업</td>\n",
       "      <td>1988-01-01</td>\n",
       "      <td>NaN</td>\n",
       "      <td>NaN</td>\n",
       "      <td>12</td>\n",
       "      <td>3235900</td>\n",
       "      <td>1</td>\n",
       "      <td>2</td>\n",
       "    </tr>\n",
       "    <tr>\n",
       "      <th>2</th>\n",
       "      <td>2021-05</td>\n",
       "      <td>노들새마을금고</td>\n",
       "      <td>108820</td>\n",
       "      <td>1</td>\n",
       "      <td>06923</td>\n",
       "      <td>서울특별시 동작구 노량진동</td>\n",
       "      <td>서울특별시 동작구 만양로</td>\n",
       "      <td>1159010100</td>\n",
       "      <td>1159051000</td>\n",
       "      <td>11</td>\n",
       "      <td>...</td>\n",
       "      <td>1</td>\n",
       "      <td>659202</td>\n",
       "      <td>신용조합</td>\n",
       "      <td>1988-01-01</td>\n",
       "      <td>NaN</td>\n",
       "      <td>NaN</td>\n",
       "      <td>14</td>\n",
       "      <td>4794440</td>\n",
       "      <td>0</td>\n",
       "      <td>0</td>\n",
       "    </tr>\n",
       "    <tr>\n",
       "      <th>3</th>\n",
       "      <td>2021-05</td>\n",
       "      <td>유창성업(주)</td>\n",
       "      <td>122812</td>\n",
       "      <td>1</td>\n",
       "      <td>22849</td>\n",
       "      <td>인천광역시 서구 오류동</td>\n",
       "      <td>인천광역시 서구 갑문2로</td>\n",
       "      <td>2826011900</td>\n",
       "      <td>2826072000</td>\n",
       "      <td>28</td>\n",
       "      <td>...</td>\n",
       "      <td>1</td>\n",
       "      <td>749604</td>\n",
       "      <td>그 외 기타 분류 안된 사업 지원 서비스업(기타임가공</td>\n",
       "      <td>1988-01-01</td>\n",
       "      <td>NaN</td>\n",
       "      <td>NaN</td>\n",
       "      <td>25</td>\n",
       "      <td>5166520</td>\n",
       "      <td>0</td>\n",
       "      <td>1</td>\n",
       "    </tr>\n",
       "    <tr>\n",
       "      <th>4</th>\n",
       "      <td>2021-05</td>\n",
       "      <td>희성전자(주)</td>\n",
       "      <td>106810</td>\n",
       "      <td>1</td>\n",
       "      <td>04410</td>\n",
       "      <td>서울특별시 용산구 한남동</td>\n",
       "      <td>서울특별시 용산구 독서당로14길</td>\n",
       "      <td>1117013100</td>\n",
       "      <td>1117067000</td>\n",
       "      <td>11</td>\n",
       "      <td>...</td>\n",
       "      <td>1</td>\n",
       "      <td>701201</td>\n",
       "      <td>비주거용 건물 임대업(점포  자기땅)</td>\n",
       "      <td>1988-01-01</td>\n",
       "      <td>NaN</td>\n",
       "      <td>NaN</td>\n",
       "      <td>437</td>\n",
       "      <td>184540080</td>\n",
       "      <td>0</td>\n",
       "      <td>1</td>\n",
       "    </tr>\n",
       "  </tbody>\n",
       "</table>\n",
       "<p>5 rows × 22 columns</p>\n",
       "</div>"
      ],
      "text/plain": [
       "  자료생성년월(자격마감일(사유발생일이 속하는 달의 다음달 15일)까지 신고분 반영)          사업장명   사업자등록번호  \\\n",
       "0                                       2021-05       우성기전(주)    126811   \n",
       "1                                       2021-05  서능공원묘지운영회(재)    102820   \n",
       "2                                       2021-05       노들새마을금고    108820   \n",
       "3                                       2021-05       유창성업(주)    122812   \n",
       "4                                       2021-05       희성전자(주)    106810   \n",
       "\n",
       "    사업장가입상태코드 1 등록 2 탈퇴   우편번호       사업장지번상세주소         사업장도로명상세주소   고객법정동주소코드  \\\n",
       "0                     1  12816     경기도 광주시 도척면   경기도 광주시 도척면 도척윗로  4161033025   \n",
       "1                     1  11191     경기도 포천시 내촌면                     4165032022   \n",
       "2                     1  06923  서울특별시 동작구 노량진동      서울특별시 동작구 만양로  1159010100   \n",
       "3                     1  22849    인천광역시 서구 오류동      인천광역시 서구 갑문2로  2826011900   \n",
       "4                     1  04410   서울특별시 용산구 한남동  서울특별시 용산구 독서당로14길  1117013100   \n",
       "\n",
       "    고객행정동주소코드   법정동주소광역시도코드  ...   사업장형태구분코드 1 법인 2 개인   사업장업종코드  \\\n",
       "0  4161033025            41  ...                     1    292201   \n",
       "1  4165032022            41  ...                     1    701700   \n",
       "2  1159051000            11  ...                     1    659202   \n",
       "3  2826072000            28  ...                     1    749604   \n",
       "4  1117067000            11  ...                     1    701201   \n",
       "\n",
       "                        사업장업종코드명        적용일자  재등록일자  탈퇴일자  가입자수(고지인원 수 포함)  \\\n",
       "0                  동력식 수지 공구 제조업  1988-01-01    NaN   NaN                5   \n",
       "1            화장터 운영  묘지 분양 및 관리업  1988-01-01    NaN   NaN               12   \n",
       "2                           신용조합  1988-01-01    NaN   NaN               14   \n",
       "3  그 외 기타 분류 안된 사업 지원 서비스업(기타임가공  1988-01-01    NaN   NaN               25   \n",
       "4           비주거용 건물 임대업(점포  자기땅)  1988-01-01    NaN   NaN              437   \n",
       "\n",
       "   당월고지금액( 국민연금법 시행령 제5조에 의거 기준소득월액 상한액 적용으로 실제소득과 고지금액은 상이할 수 있음  상한액 2019.7.~2020.6. 4860000원(2019.7.1.기준) 상한액 2020.7.~2021.6. 5030000원(2020.7.1.기준) 상한액 2021.7.~2022.6.  5240000원(2021.7.1.기준) )  \\\n",
       "0                                             792720                                                                                                                                                  \n",
       "1                                            3235900                                                                                                                                                  \n",
       "2                                            4794440                                                                                                                                                  \n",
       "3                                            5166520                                                                                                                                                  \n",
       "4                                          184540080                                                                                                                                                  \n",
       "\n",
       "    신규취득자수(납부재개 포함  전달 고지대상자와 비교하므로 실제 취득자와 상이할 수 있음(초일취득 고지 초일이 아닌경우. 미고지(다음달 취득자수에 반영))  \\\n",
       "0                                                  0                                        \n",
       "1                                                  1                                        \n",
       "2                                                  0                                        \n",
       "3                                                  0                                        \n",
       "4                                                  0                                        \n",
       "\n",
       "    상실가입자수(납부예외 포함  전달 고지대상자와 비교하므로 실제 퇴사자와 상이할 수 있음(초일이 아닌 상실자는 다음달 상실자수에 반영) 국민연금법 제6조 8조 동법 시행령 제18조에 의거 60세 도달하거나 퇴직연금수급자 조기노령연금 수급권을 취득한 자는 가입대상에서 제외되며 18세미만 기초수급자는 본인희망에 의해 제외될 수 있음)  \n",
       "0                                                  0                                                                                                                                          \n",
       "1                                                  2                                                                                                                                          \n",
       "2                                                  0                                                                                                                                          \n",
       "3                                                  1                                                                                                                                          \n",
       "4                                                  1                                                                                                                                          \n",
       "\n",
       "[5 rows x 22 columns]"
      ]
     },
     "execution_count": 16,
     "metadata": {},
     "output_type": "execute_result"
    }
   ],
   "source": [
    "pensionDF.head()"
   ]
  },
  {
   "cell_type": "code",
   "execution_count": 17,
   "id": "5e3cc761-150d-439c-9aef-6fb8183b8e87",
   "metadata": {},
   "outputs": [
    {
     "data": {
      "text/plain": [
       "Index(['자료생성년월(자격마감일(사유발생일이 속하는 달의 다음달 15일)까지 신고분 반영)', ' 사업장명', ' 사업자등록번호',\n",
       "       ' 사업장가입상태코드 1 등록 2 탈퇴', ' 우편번호', ' 사업장지번상세주소', ' 사업장도로명상세주소',\n",
       "       ' 고객법정동주소코드', ' 고객행정동주소코드', ' 법정동주소광역시도코드', ' 법정동주소광역시시군구코드',\n",
       "       ' 법정동주소광역시시군구읍면동코드', ' 사업장형태구분코드 1 법인 2 개인', ' 사업장업종코드', ' 사업장업종코드명',\n",
       "       ' 적용일자', ' 재등록일자', ' 탈퇴일자', ' 가입자수(고지인원 수 포함)',\n",
       "       ' 당월고지금액( 국민연금법 시행령 제5조에 의거 기준소득월액 상한액 적용으로 실제소득과 고지금액은 상이할 수 있음  상한액 2019.7.~2020.6. 4860000원(2019.7.1.기준) 상한액 2020.7.~2021.6. 5030000원(2020.7.1.기준) 상한액 2021.7.~2022.6.  5240000원(2021.7.1.기준) )',\n",
       "       ' 신규취득자수(납부재개 포함  전달 고지대상자와 비교하므로 실제 취득자와 상이할 수 있음(초일취득 고지 초일이 아닌경우. 미고지(다음달 취득자수에 반영))',\n",
       "       ' 상실가입자수(납부예외 포함  전달 고지대상자와 비교하므로 실제 퇴사자와 상이할 수 있음(초일이 아닌 상실자는 다음달 상실자수에 반영) 국민연금법 제6조 8조 동법 시행령 제18조에 의거 60세 도달하거나 퇴직연금수급자 조기노령연금 수급권을 취득한 자는 가입대상에서 제외되며 18세미만 기초수급자는 본인희망에 의해 제외될 수 있음)'],\n",
       "      dtype='object')"
      ]
     },
     "execution_count": 17,
     "metadata": {},
     "output_type": "execute_result"
    }
   ],
   "source": [
    "pensionDF.columns"
   ]
  },
  {
   "cell_type": "markdown",
   "id": "788db4a5-e6cd-4810-95e5-329a2d28f907",
   "metadata": {},
   "source": [
    "사용할 데이터 col을 뽑아보자"
   ]
  },
  {
   "cell_type": "code",
   "execution_count": 18,
   "id": "b958898d-acd4-478b-8412-e9f9dab17b88",
   "metadata": {},
   "outputs": [],
   "source": [
    "pensionDF['사업장지번상세주소'] = np.where(pensionDF[' 사업장지번상세주소'].str.strip() != '', pensionDF[' 사업장지번상세주소'], pensionDF[' 사업장도로명상세주소'])"
   ]
  },
  {
   "cell_type": "code",
   "execution_count": 19,
   "id": "8e410b93-dbde-4c58-b7a3-70bf0e012057",
   "metadata": {},
   "outputs": [],
   "source": [
    "pensionDF = pensionDF[[\" 사업장명\", \" 사업장지번상세주소\", \" 가입자수(고지인원 수 포함)\", \" 당월고지금액( 국민연금법 시행령 제5조에 의거 기준소득월액 상한액 적용으로 실제소득과 고지금액은 상이할 수 있음  상한액 2019.7.~2020.6. 4860000원(2019.7.1.기준) 상한액 2020.7.~2021.6. 5030000원(2020.7.1.기준) 상한액 2021.7.~2022.6.  5240000원(2021.7.1.기준) )\"]]"
   ]
  },
  {
   "cell_type": "code",
   "execution_count": 20,
   "id": "f19712bb-b119-412a-90fc-4081b3a1b9e6",
   "metadata": {
    "scrolled": true
   },
   "outputs": [
    {
     "data": {
      "text/plain": [
       "Index([' 사업장명', ' 사업장지번상세주소', ' 가입자수(고지인원 수 포함)',\n",
       "       ' 당월고지금액( 국민연금법 시행령 제5조에 의거 기준소득월액 상한액 적용으로 실제소득과 고지금액은 상이할 수 있음  상한액 2019.7.~2020.6. 4860000원(2019.7.1.기준) 상한액 2020.7.~2021.6. 5030000원(2020.7.1.기준) 상한액 2021.7.~2022.6.  5240000원(2021.7.1.기준) )'],\n",
       "      dtype='object')"
      ]
     },
     "execution_count": 20,
     "metadata": {},
     "output_type": "execute_result"
    }
   ],
   "source": [
    "# pensionDF[\" 사업장지번상세주소\"].unique()\n",
    "pensionDF.columns"
   ]
  },
  {
   "cell_type": "code",
   "execution_count": 21,
   "id": "84591f40-84b0-481c-9e22-4ab43adbdddc",
   "metadata": {},
   "outputs": [
    {
     "data": {
      "text/plain": [
       "Index(['사업장명', '본사주소', '가입자수', '당월고지금액'], dtype='object')"
      ]
     },
     "execution_count": 21,
     "metadata": {},
     "output_type": "execute_result"
    }
   ],
   "source": [
    "pensionDF.columns = [\"사업장명\", \"본사주소\", \"가입자수\", \"당월고지금액\"]\n",
    "pensionDF.columns"
   ]
  },
  {
   "cell_type": "code",
   "execution_count": 22,
   "id": "c6c2f40d-ee87-4de3-9230-6c411527cbee",
   "metadata": {
    "scrolled": true
   },
   "outputs": [],
   "source": [
    "# pensionDF.drop(pensionDF[\"본사주소\"] == \" \")"
   ]
  },
  {
   "cell_type": "markdown",
   "id": "fe6dfc5e-49a3-455e-b6bc-131b9b41a55c",
   "metadata": {},
   "source": [
    "### 주소분리"
   ]
  },
  {
   "cell_type": "code",
   "execution_count": 23,
   "id": "5da3baa1-aff5-4f71-8849-2898e1cd1750",
   "metadata": {
    "scrolled": true
   },
   "outputs": [
    {
     "data": {
      "text/html": [
       "<div>\n",
       "<style scoped>\n",
       "    .dataframe tbody tr th:only-of-type {\n",
       "        vertical-align: middle;\n",
       "    }\n",
       "\n",
       "    .dataframe tbody tr th {\n",
       "        vertical-align: top;\n",
       "    }\n",
       "\n",
       "    .dataframe thead th {\n",
       "        text-align: right;\n",
       "    }\n",
       "</style>\n",
       "<table border=\"1\" class=\"dataframe\">\n",
       "  <thead>\n",
       "    <tr style=\"text-align: right;\">\n",
       "      <th></th>\n",
       "      <th>사업장명</th>\n",
       "      <th>본사주소</th>\n",
       "      <th>가입자수</th>\n",
       "      <th>당월고지금액</th>\n",
       "    </tr>\n",
       "  </thead>\n",
       "  <tbody>\n",
       "    <tr>\n",
       "      <th>386249</th>\n",
       "      <td>주식회사바이더엠(학동지점)</td>\n",
       "      <td>서울특별시 강남구 논현동</td>\n",
       "      <td>0</td>\n",
       "      <td>0</td>\n",
       "    </tr>\n",
       "    <tr>\n",
       "      <th>471711</th>\n",
       "      <td>로드건설주식회사/일용/운곡초등학교내진보강및외벽수선공사</td>\n",
       "      <td>충청남도 청양군 운곡면</td>\n",
       "      <td>0</td>\n",
       "      <td>0</td>\n",
       "    </tr>\n",
       "    <tr>\n",
       "      <th>471714</th>\n",
       "      <td>반도장식산업주식회사-(일용)위례 A3-4a블럭 공동주택 신축사업 도배공사(2공구)</td>\n",
       "      <td>경기도 하남시 학암동</td>\n",
       "      <td>0</td>\n",
       "      <td>0</td>\n",
       "    </tr>\n",
       "    <tr>\n",
       "      <th>471718</th>\n",
       "      <td>금장건설주식회사/상용/국도1호선 나주 매성지구 등 3개소 도로정비공사</td>\n",
       "      <td>전라남도 나주시 공산면</td>\n",
       "      <td>0</td>\n",
       "      <td>0</td>\n",
       "    </tr>\n",
       "    <tr>\n",
       "      <th>187523</th>\n",
       "      <td>（주）제이투케이</td>\n",
       "      <td>인천광역시 서구 마전동</td>\n",
       "      <td>0</td>\n",
       "      <td>0</td>\n",
       "    </tr>\n",
       "    <tr>\n",
       "      <th>...</th>\n",
       "      <td>...</td>\n",
       "      <td>...</td>\n",
       "      <td>...</td>\n",
       "      <td>...</td>\n",
       "    </tr>\n",
       "    <tr>\n",
       "      <th>166280</th>\n",
       "      <td>엘지디스플레이(주)</td>\n",
       "      <td>서울특별시 영등포구 여의도동</td>\n",
       "      <td>26440</td>\n",
       "      <td>11009314300</td>\n",
       "    </tr>\n",
       "    <tr>\n",
       "      <th>149675</th>\n",
       "      <td>에스케이하이닉스 주식회사</td>\n",
       "      <td>경기도 이천시 부발읍</td>\n",
       "      <td>28291</td>\n",
       "      <td>12420446400</td>\n",
       "    </tr>\n",
       "    <tr>\n",
       "      <th>14324</th>\n",
       "      <td>엘지전자(주)</td>\n",
       "      <td>서울특별시 영등포구 여의도동</td>\n",
       "      <td>40132</td>\n",
       "      <td>17213815200</td>\n",
       "    </tr>\n",
       "    <tr>\n",
       "      <th>3357</th>\n",
       "      <td>현대자동차(주)</td>\n",
       "      <td>서울특별시 서초구 양재동</td>\n",
       "      <td>68501</td>\n",
       "      <td>29639369740</td>\n",
       "    </tr>\n",
       "    <tr>\n",
       "      <th>4586</th>\n",
       "      <td>삼성전자(주)</td>\n",
       "      <td>경기도 수원시 영통구 매탄동</td>\n",
       "      <td>108331</td>\n",
       "      <td>47499892520</td>\n",
       "    </tr>\n",
       "  </tbody>\n",
       "</table>\n",
       "<p>529221 rows × 4 columns</p>\n",
       "</div>"
      ],
      "text/plain": [
       "                                                 사업장명             본사주소  \\\n",
       "386249                                 주식회사바이더엠(학동지점)    서울특별시 강남구 논현동   \n",
       "471711                  로드건설주식회사/일용/운곡초등학교내진보강및외벽수선공사     충청남도 청양군 운곡면   \n",
       "471714  반도장식산업주식회사-(일용)위례 A3-4a블럭 공동주택 신축사업 도배공사(2공구)      경기도 하남시 학암동   \n",
       "471718         금장건설주식회사/상용/국도1호선 나주 매성지구 등 3개소 도로정비공사     전라남도 나주시 공산면   \n",
       "187523                                       （주）제이투케이     인천광역시 서구 마전동   \n",
       "...                                               ...              ...   \n",
       "166280                                     엘지디스플레이(주)  서울특별시 영등포구 여의도동   \n",
       "149675                                  에스케이하이닉스 주식회사      경기도 이천시 부발읍   \n",
       "14324                                         엘지전자(주)  서울특별시 영등포구 여의도동   \n",
       "3357                                         현대자동차(주)    서울특별시 서초구 양재동   \n",
       "4586                                          삼성전자(주)  경기도 수원시 영통구 매탄동   \n",
       "\n",
       "          가입자수       당월고지금액  \n",
       "386249       0            0  \n",
       "471711       0            0  \n",
       "471714       0            0  \n",
       "471718       0            0  \n",
       "187523       0            0  \n",
       "...        ...          ...  \n",
       "166280   26440  11009314300  \n",
       "149675   28291  12420446400  \n",
       "14324    40132  17213815200  \n",
       "3357     68501  29639369740  \n",
       "4586    108331  47499892520  \n",
       "\n",
       "[529221 rows x 4 columns]"
      ]
     },
     "execution_count": 23,
     "metadata": {},
     "output_type": "execute_result"
    }
   ],
   "source": [
    "pensionDF.sort_values(\"당월고지금액\")"
   ]
  },
  {
   "cell_type": "code",
   "execution_count": 24,
   "id": "10ec58e0-e389-466d-b573-922f8494e2db",
   "metadata": {},
   "outputs": [
    {
     "data": {
      "text/html": [
       "<div>\n",
       "<style scoped>\n",
       "    .dataframe tbody tr th:only-of-type {\n",
       "        vertical-align: middle;\n",
       "    }\n",
       "\n",
       "    .dataframe tbody tr th {\n",
       "        vertical-align: top;\n",
       "    }\n",
       "\n",
       "    .dataframe thead th {\n",
       "        text-align: right;\n",
       "    }\n",
       "</style>\n",
       "<table border=\"1\" class=\"dataframe\">\n",
       "  <thead>\n",
       "    <tr style=\"text-align: right;\">\n",
       "      <th></th>\n",
       "      <th>시도</th>\n",
       "      <th>군구</th>\n",
       "    </tr>\n",
       "  </thead>\n",
       "  <tbody>\n",
       "    <tr>\n",
       "      <th>0</th>\n",
       "      <td>경기도</td>\n",
       "      <td>광주시</td>\n",
       "    </tr>\n",
       "    <tr>\n",
       "      <th>1</th>\n",
       "      <td>경기도</td>\n",
       "      <td>포천시</td>\n",
       "    </tr>\n",
       "    <tr>\n",
       "      <th>2</th>\n",
       "      <td>서울특별시</td>\n",
       "      <td>동작구</td>\n",
       "    </tr>\n",
       "    <tr>\n",
       "      <th>3</th>\n",
       "      <td>인천광역시</td>\n",
       "      <td>서구</td>\n",
       "    </tr>\n",
       "    <tr>\n",
       "      <th>4</th>\n",
       "      <td>서울특별시</td>\n",
       "      <td>용산구</td>\n",
       "    </tr>\n",
       "  </tbody>\n",
       "</table>\n",
       "</div>"
      ],
      "text/plain": [
       "      시도   군구\n",
       "0    경기도  광주시\n",
       "1    경기도  포천시\n",
       "2  서울특별시  동작구\n",
       "3  인천광역시   서구\n",
       "4  서울특별시  용산구"
      ]
     },
     "execution_count": 24,
     "metadata": {},
     "output_type": "execute_result"
    }
   ],
   "source": [
    "addr = pd.DataFrame(pensionDF[\"본사주소\"])\n",
    "addr = addr[\"본사주소\"].apply(lambda x : x.split()[:2])\n",
    "addr =\tpd.DataFrame(addr.tolist(), columns=('시도', '군구'))\n",
    "addr.head()"
   ]
  },
  {
   "cell_type": "code",
   "execution_count": 25,
   "id": "2064a09d-5b89-4f43-abf0-d87840cc9dbf",
   "metadata": {
    "scrolled": true
   },
   "outputs": [
    {
     "data": {
      "text/html": [
       "<div>\n",
       "<style scoped>\n",
       "    .dataframe tbody tr th:only-of-type {\n",
       "        vertical-align: middle;\n",
       "    }\n",
       "\n",
       "    .dataframe tbody tr th {\n",
       "        vertical-align: top;\n",
       "    }\n",
       "\n",
       "    .dataframe thead th {\n",
       "        text-align: right;\n",
       "    }\n",
       "</style>\n",
       "<table border=\"1\" class=\"dataframe\">\n",
       "  <thead>\n",
       "    <tr style=\"text-align: right;\">\n",
       "      <th></th>\n",
       "      <th>사업장명</th>\n",
       "      <th>본사주소</th>\n",
       "      <th>가입자수</th>\n",
       "      <th>당월고지금액</th>\n",
       "      <th>시도</th>\n",
       "      <th>군구</th>\n",
       "      <th>나머지 주소</th>\n",
       "    </tr>\n",
       "  </thead>\n",
       "  <tbody>\n",
       "    <tr>\n",
       "      <th>0</th>\n",
       "      <td>우성기전(주)</td>\n",
       "      <td>경기도 광주시 도척면</td>\n",
       "      <td>5</td>\n",
       "      <td>792720</td>\n",
       "      <td>경기도</td>\n",
       "      <td>광주시</td>\n",
       "      <td>도척면</td>\n",
       "    </tr>\n",
       "    <tr>\n",
       "      <th>1</th>\n",
       "      <td>서능공원묘지운영회(재)</td>\n",
       "      <td>경기도 포천시 내촌면</td>\n",
       "      <td>12</td>\n",
       "      <td>3235900</td>\n",
       "      <td>경기도</td>\n",
       "      <td>포천시</td>\n",
       "      <td>내촌면</td>\n",
       "    </tr>\n",
       "    <tr>\n",
       "      <th>2</th>\n",
       "      <td>노들새마을금고</td>\n",
       "      <td>서울특별시 동작구 노량진동</td>\n",
       "      <td>14</td>\n",
       "      <td>4794440</td>\n",
       "      <td>서울특별시</td>\n",
       "      <td>동작구</td>\n",
       "      <td>노량진동</td>\n",
       "    </tr>\n",
       "    <tr>\n",
       "      <th>3</th>\n",
       "      <td>유창성업(주)</td>\n",
       "      <td>인천광역시 서구 오류동</td>\n",
       "      <td>25</td>\n",
       "      <td>5166520</td>\n",
       "      <td>인천광역시</td>\n",
       "      <td>서구</td>\n",
       "      <td>오류동</td>\n",
       "    </tr>\n",
       "    <tr>\n",
       "      <th>4</th>\n",
       "      <td>희성전자(주)</td>\n",
       "      <td>서울특별시 용산구 한남동</td>\n",
       "      <td>437</td>\n",
       "      <td>184540080</td>\n",
       "      <td>서울특별시</td>\n",
       "      <td>용산구</td>\n",
       "      <td>한남동</td>\n",
       "    </tr>\n",
       "  </tbody>\n",
       "</table>\n",
       "</div>"
      ],
      "text/plain": [
       "           사업장명            본사주소  가입자수     당월고지금액     시도   군구 나머지 주소\n",
       "0       우성기전(주)     경기도 광주시 도척면     5     792720    경기도  광주시    도척면\n",
       "1  서능공원묘지운영회(재)     경기도 포천시 내촌면    12    3235900    경기도  포천시    내촌면\n",
       "2       노들새마을금고  서울특별시 동작구 노량진동    14    4794440  서울특별시  동작구   노량진동\n",
       "3       유창성업(주)    인천광역시 서구 오류동    25    5166520  인천광역시   서구    오류동\n",
       "4       희성전자(주)   서울특별시 용산구 한남동   437  184540080  서울특별시  용산구    한남동"
      ]
     },
     "execution_count": 25,
     "metadata": {},
     "output_type": "execute_result"
    }
   ],
   "source": [
    "pensionDF[[\"시도\", \"군구\", \"나머지 주소\"]] = pensionDF[\"본사주소\"].str.split(' ', n=2, expand=True)\n",
    "pensionDF.head()"
   ]
  },
  {
   "cell_type": "code",
   "execution_count": 26,
   "id": "431b97d0-1272-4ff4-a75f-8a6f6ca31a4d",
   "metadata": {},
   "outputs": [],
   "source": [
    "pensionDF = pensionDF.drop(\"본사주소\", axis = True)"
   ]
  },
  {
   "cell_type": "code",
   "execution_count": 27,
   "id": "13f518eb-f667-4af7-a65b-6d584af5461e",
   "metadata": {},
   "outputs": [
    {
     "data": {
      "text/plain": [
       "array(['경기도', '서울특별시', '인천광역시', '전라북도', '충청남도', '충청북도', '강원도', '부산광역시',\n",
       "       '전라남도', '울산광역시', '경상북도', '세종특별자치시', '대구광역시', '경상남도', '제주특별자치도',\n",
       "       '대전광역시', '광주광역시', ''], dtype=object)"
      ]
     },
     "execution_count": 27,
     "metadata": {},
     "output_type": "execute_result"
    }
   ],
   "source": [
    "pensionDF[\"시도\"].unique()"
   ]
  },
  {
   "cell_type": "code",
   "execution_count": 28,
   "id": "2a5709f4-89ae-4638-8b1b-0c79d103f3e5",
   "metadata": {},
   "outputs": [],
   "source": [
    "# pensionDF[pensionDF[\"시도\"]==\"\"]\n",
    "pensionDF = pensionDF[pensionDF[\"시도\"] != \"\"]"
   ]
  },
  {
   "cell_type": "code",
   "execution_count": 29,
   "id": "0f015c7f-b665-4a18-9387-2b4dbb9412a3",
   "metadata": {},
   "outputs": [],
   "source": [
    "addr_aliases =\t{'전라북도':'전북특별자치도'}"
   ]
  },
  {
   "cell_type": "code",
   "execution_count": 30,
   "id": "26445d12-c7d5-4a09-8d51-3be069fbe562",
   "metadata": {},
   "outputs": [],
   "source": [
    "pensionDF['시도'] = pensionDF['시도'].apply(lambda\tv: addr_aliases.get(v, v))"
   ]
  },
  {
   "cell_type": "markdown",
   "id": "c02ead97-1678-4261-9dcb-6d6a3289cad9",
   "metadata": {},
   "source": [
    "## <hr>Group Area "
   ]
  },
  {
   "cell_type": "code",
   "execution_count": 31,
   "id": "aebfe635-b994-46c9-b00c-8a682ed7f1ce",
   "metadata": {},
   "outputs": [
    {
     "data": {
      "text/html": [
       "<div>\n",
       "<style scoped>\n",
       "    .dataframe tbody tr th:only-of-type {\n",
       "        vertical-align: middle;\n",
       "    }\n",
       "\n",
       "    .dataframe tbody tr th {\n",
       "        vertical-align: top;\n",
       "    }\n",
       "\n",
       "    .dataframe thead th {\n",
       "        text-align: right;\n",
       "    }\n",
       "</style>\n",
       "<table border=\"1\" class=\"dataframe\">\n",
       "  <thead>\n",
       "    <tr style=\"text-align: right;\">\n",
       "      <th></th>\n",
       "      <th>가입자수</th>\n",
       "      <th>당월고지금액</th>\n",
       "    </tr>\n",
       "    <tr>\n",
       "      <th>시도</th>\n",
       "      <th></th>\n",
       "      <th></th>\n",
       "    </tr>\n",
       "  </thead>\n",
       "  <tbody>\n",
       "    <tr>\n",
       "      <th>강원도</th>\n",
       "      <td>217219</td>\n",
       "      <td>56448848060</td>\n",
       "    </tr>\n",
       "    <tr>\n",
       "      <th>경기도</th>\n",
       "      <td>2379633</td>\n",
       "      <td>694971709640</td>\n",
       "    </tr>\n",
       "    <tr>\n",
       "      <th>경상남도</th>\n",
       "      <td>510401</td>\n",
       "      <td>144889637180</td>\n",
       "    </tr>\n",
       "    <tr>\n",
       "      <th>경상북도</th>\n",
       "      <td>438321</td>\n",
       "      <td>126221468040</td>\n",
       "    </tr>\n",
       "    <tr>\n",
       "      <th>광주광역시</th>\n",
       "      <td>196740</td>\n",
       "      <td>50966222820</td>\n",
       "    </tr>\n",
       "  </tbody>\n",
       "</table>\n",
       "</div>"
      ],
      "text/plain": [
       "          가입자수        당월고지금액\n",
       "시도                          \n",
       "강원도     217219   56448848060\n",
       "경기도    2379633  694971709640\n",
       "경상남도    510401  144889637180\n",
       "경상북도    438321  126221468040\n",
       "광주광역시   196740   50966222820"
      ]
     },
     "execution_count": 31,
     "metadata": {},
     "output_type": "execute_result"
    }
   ],
   "source": [
    "group_area = pensionDF.groupby([\"시도\"]).sum(numeric_only=True)\n",
    "group_area.head()"
   ]
  },
  {
   "cell_type": "code",
   "execution_count": 32,
   "id": "b91f536f-64bf-4b4f-afe3-b340920f9068",
   "metadata": {},
   "outputs": [],
   "source": [
    "group_area[\"div\"] = group_area[\"당월고지금액\"] / group_area[\"가입자수\"]"
   ]
  },
  {
   "cell_type": "code",
   "execution_count": 33,
   "id": "061f7836-fd37-418c-95ea-ff82b626470b",
   "metadata": {},
   "outputs": [],
   "source": [
    "group_area = group_area.sort_values(\"div\", ascending=False)"
   ]
  },
  {
   "cell_type": "code",
   "execution_count": 34,
   "id": "6ac8eedb-da5d-444f-a1e3-c78e9345c397",
   "metadata": {
    "scrolled": true
   },
   "outputs": [
    {
     "ename": "KeyError",
     "evalue": "\"['황해북도'] not found in axis\"",
     "output_type": "error",
     "traceback": [
      "\u001b[1;31m---------------------------------------------------------------------------\u001b[0m",
      "\u001b[1;31mKeyError\u001b[0m                                  Traceback (most recent call last)",
      "Cell \u001b[1;32mIn[34], line 1\u001b[0m\n\u001b[1;32m----> 1\u001b[0m group_area \u001b[38;5;241m=\u001b[39m \u001b[43mgroup_area\u001b[49m\u001b[38;5;241;43m.\u001b[39;49m\u001b[43mdrop\u001b[49m\u001b[43m(\u001b[49m\u001b[38;5;124;43m\"\u001b[39;49m\u001b[38;5;124;43m황해북도\u001b[39;49m\u001b[38;5;124;43m\"\u001b[39;49m\u001b[43m)\u001b[49m\n\u001b[0;32m      2\u001b[0m group_area\n",
      "File \u001b[1;32m~\\anaconda3\\envs\\My_38\\lib\\site-packages\\pandas\\util\\_decorators.py:331\u001b[0m, in \u001b[0;36mdeprecate_nonkeyword_arguments.<locals>.decorate.<locals>.wrapper\u001b[1;34m(*args, **kwargs)\u001b[0m\n\u001b[0;32m    325\u001b[0m \u001b[38;5;28;01mif\u001b[39;00m \u001b[38;5;28mlen\u001b[39m(args) \u001b[38;5;241m>\u001b[39m num_allow_args:\n\u001b[0;32m    326\u001b[0m     warnings\u001b[38;5;241m.\u001b[39mwarn(\n\u001b[0;32m    327\u001b[0m         msg\u001b[38;5;241m.\u001b[39mformat(arguments\u001b[38;5;241m=\u001b[39m_format_argument_list(allow_args)),\n\u001b[0;32m    328\u001b[0m         \u001b[38;5;167;01mFutureWarning\u001b[39;00m,\n\u001b[0;32m    329\u001b[0m         stacklevel\u001b[38;5;241m=\u001b[39mfind_stack_level(),\n\u001b[0;32m    330\u001b[0m     )\n\u001b[1;32m--> 331\u001b[0m \u001b[38;5;28;01mreturn\u001b[39;00m \u001b[43mfunc\u001b[49m\u001b[43m(\u001b[49m\u001b[38;5;241;43m*\u001b[39;49m\u001b[43margs\u001b[49m\u001b[43m,\u001b[49m\u001b[43m \u001b[49m\u001b[38;5;241;43m*\u001b[39;49m\u001b[38;5;241;43m*\u001b[39;49m\u001b[43mkwargs\u001b[49m\u001b[43m)\u001b[49m\n",
      "File \u001b[1;32m~\\anaconda3\\envs\\My_38\\lib\\site-packages\\pandas\\core\\frame.py:5399\u001b[0m, in \u001b[0;36mDataFrame.drop\u001b[1;34m(self, labels, axis, index, columns, level, inplace, errors)\u001b[0m\n\u001b[0;32m   5251\u001b[0m \u001b[38;5;129m@deprecate_nonkeyword_arguments\u001b[39m(version\u001b[38;5;241m=\u001b[39m\u001b[38;5;28;01mNone\u001b[39;00m, allowed_args\u001b[38;5;241m=\u001b[39m[\u001b[38;5;124m\"\u001b[39m\u001b[38;5;124mself\u001b[39m\u001b[38;5;124m\"\u001b[39m, \u001b[38;5;124m\"\u001b[39m\u001b[38;5;124mlabels\u001b[39m\u001b[38;5;124m\"\u001b[39m])\n\u001b[0;32m   5252\u001b[0m \u001b[38;5;28;01mdef\u001b[39;00m \u001b[38;5;21mdrop\u001b[39m(  \u001b[38;5;66;03m# type: ignore[override]\u001b[39;00m\n\u001b[0;32m   5253\u001b[0m     \u001b[38;5;28mself\u001b[39m,\n\u001b[1;32m   (...)\u001b[0m\n\u001b[0;32m   5260\u001b[0m     errors: IgnoreRaise \u001b[38;5;241m=\u001b[39m \u001b[38;5;124m\"\u001b[39m\u001b[38;5;124mraise\u001b[39m\u001b[38;5;124m\"\u001b[39m,\n\u001b[0;32m   5261\u001b[0m ) \u001b[38;5;241m-\u001b[39m\u001b[38;5;241m>\u001b[39m DataFrame \u001b[38;5;241m|\u001b[39m \u001b[38;5;28;01mNone\u001b[39;00m:\n\u001b[0;32m   5262\u001b[0m \u001b[38;5;250m    \u001b[39m\u001b[38;5;124;03m\"\"\"\u001b[39;00m\n\u001b[0;32m   5263\u001b[0m \u001b[38;5;124;03m    Drop specified labels from rows or columns.\u001b[39;00m\n\u001b[0;32m   5264\u001b[0m \n\u001b[1;32m   (...)\u001b[0m\n\u001b[0;32m   5397\u001b[0m \u001b[38;5;124;03m            weight  1.0     0.8\u001b[39;00m\n\u001b[0;32m   5398\u001b[0m \u001b[38;5;124;03m    \"\"\"\u001b[39;00m\n\u001b[1;32m-> 5399\u001b[0m     \u001b[38;5;28;01mreturn\u001b[39;00m \u001b[38;5;28;43msuper\u001b[39;49m\u001b[43m(\u001b[49m\u001b[43m)\u001b[49m\u001b[38;5;241;43m.\u001b[39;49m\u001b[43mdrop\u001b[49m\u001b[43m(\u001b[49m\n\u001b[0;32m   5400\u001b[0m \u001b[43m        \u001b[49m\u001b[43mlabels\u001b[49m\u001b[38;5;241;43m=\u001b[39;49m\u001b[43mlabels\u001b[49m\u001b[43m,\u001b[49m\n\u001b[0;32m   5401\u001b[0m \u001b[43m        \u001b[49m\u001b[43maxis\u001b[49m\u001b[38;5;241;43m=\u001b[39;49m\u001b[43maxis\u001b[49m\u001b[43m,\u001b[49m\n\u001b[0;32m   5402\u001b[0m \u001b[43m        \u001b[49m\u001b[43mindex\u001b[49m\u001b[38;5;241;43m=\u001b[39;49m\u001b[43mindex\u001b[49m\u001b[43m,\u001b[49m\n\u001b[0;32m   5403\u001b[0m \u001b[43m        \u001b[49m\u001b[43mcolumns\u001b[49m\u001b[38;5;241;43m=\u001b[39;49m\u001b[43mcolumns\u001b[49m\u001b[43m,\u001b[49m\n\u001b[0;32m   5404\u001b[0m \u001b[43m        \u001b[49m\u001b[43mlevel\u001b[49m\u001b[38;5;241;43m=\u001b[39;49m\u001b[43mlevel\u001b[49m\u001b[43m,\u001b[49m\n\u001b[0;32m   5405\u001b[0m \u001b[43m        \u001b[49m\u001b[43minplace\u001b[49m\u001b[38;5;241;43m=\u001b[39;49m\u001b[43minplace\u001b[49m\u001b[43m,\u001b[49m\n\u001b[0;32m   5406\u001b[0m \u001b[43m        \u001b[49m\u001b[43merrors\u001b[49m\u001b[38;5;241;43m=\u001b[39;49m\u001b[43merrors\u001b[49m\u001b[43m,\u001b[49m\n\u001b[0;32m   5407\u001b[0m \u001b[43m    \u001b[49m\u001b[43m)\u001b[49m\n",
      "File \u001b[1;32m~\\anaconda3\\envs\\My_38\\lib\\site-packages\\pandas\\util\\_decorators.py:331\u001b[0m, in \u001b[0;36mdeprecate_nonkeyword_arguments.<locals>.decorate.<locals>.wrapper\u001b[1;34m(*args, **kwargs)\u001b[0m\n\u001b[0;32m    325\u001b[0m \u001b[38;5;28;01mif\u001b[39;00m \u001b[38;5;28mlen\u001b[39m(args) \u001b[38;5;241m>\u001b[39m num_allow_args:\n\u001b[0;32m    326\u001b[0m     warnings\u001b[38;5;241m.\u001b[39mwarn(\n\u001b[0;32m    327\u001b[0m         msg\u001b[38;5;241m.\u001b[39mformat(arguments\u001b[38;5;241m=\u001b[39m_format_argument_list(allow_args)),\n\u001b[0;32m    328\u001b[0m         \u001b[38;5;167;01mFutureWarning\u001b[39;00m,\n\u001b[0;32m    329\u001b[0m         stacklevel\u001b[38;5;241m=\u001b[39mfind_stack_level(),\n\u001b[0;32m    330\u001b[0m     )\n\u001b[1;32m--> 331\u001b[0m \u001b[38;5;28;01mreturn\u001b[39;00m \u001b[43mfunc\u001b[49m\u001b[43m(\u001b[49m\u001b[38;5;241;43m*\u001b[39;49m\u001b[43margs\u001b[49m\u001b[43m,\u001b[49m\u001b[43m \u001b[49m\u001b[38;5;241;43m*\u001b[39;49m\u001b[38;5;241;43m*\u001b[39;49m\u001b[43mkwargs\u001b[49m\u001b[43m)\u001b[49m\n",
      "File \u001b[1;32m~\\anaconda3\\envs\\My_38\\lib\\site-packages\\pandas\\core\\generic.py:4505\u001b[0m, in \u001b[0;36mNDFrame.drop\u001b[1;34m(self, labels, axis, index, columns, level, inplace, errors)\u001b[0m\n\u001b[0;32m   4503\u001b[0m \u001b[38;5;28;01mfor\u001b[39;00m axis, labels \u001b[38;5;129;01min\u001b[39;00m axes\u001b[38;5;241m.\u001b[39mitems():\n\u001b[0;32m   4504\u001b[0m     \u001b[38;5;28;01mif\u001b[39;00m labels \u001b[38;5;129;01mis\u001b[39;00m \u001b[38;5;129;01mnot\u001b[39;00m \u001b[38;5;28;01mNone\u001b[39;00m:\n\u001b[1;32m-> 4505\u001b[0m         obj \u001b[38;5;241m=\u001b[39m \u001b[43mobj\u001b[49m\u001b[38;5;241;43m.\u001b[39;49m\u001b[43m_drop_axis\u001b[49m\u001b[43m(\u001b[49m\u001b[43mlabels\u001b[49m\u001b[43m,\u001b[49m\u001b[43m \u001b[49m\u001b[43maxis\u001b[49m\u001b[43m,\u001b[49m\u001b[43m \u001b[49m\u001b[43mlevel\u001b[49m\u001b[38;5;241;43m=\u001b[39;49m\u001b[43mlevel\u001b[49m\u001b[43m,\u001b[49m\u001b[43m \u001b[49m\u001b[43merrors\u001b[49m\u001b[38;5;241;43m=\u001b[39;49m\u001b[43merrors\u001b[49m\u001b[43m)\u001b[49m\n\u001b[0;32m   4507\u001b[0m \u001b[38;5;28;01mif\u001b[39;00m inplace:\n\u001b[0;32m   4508\u001b[0m     \u001b[38;5;28mself\u001b[39m\u001b[38;5;241m.\u001b[39m_update_inplace(obj)\n",
      "File \u001b[1;32m~\\anaconda3\\envs\\My_38\\lib\\site-packages\\pandas\\core\\generic.py:4546\u001b[0m, in \u001b[0;36mNDFrame._drop_axis\u001b[1;34m(self, labels, axis, level, errors, only_slice)\u001b[0m\n\u001b[0;32m   4544\u001b[0m         new_axis \u001b[38;5;241m=\u001b[39m axis\u001b[38;5;241m.\u001b[39mdrop(labels, level\u001b[38;5;241m=\u001b[39mlevel, errors\u001b[38;5;241m=\u001b[39merrors)\n\u001b[0;32m   4545\u001b[0m     \u001b[38;5;28;01melse\u001b[39;00m:\n\u001b[1;32m-> 4546\u001b[0m         new_axis \u001b[38;5;241m=\u001b[39m \u001b[43maxis\u001b[49m\u001b[38;5;241;43m.\u001b[39;49m\u001b[43mdrop\u001b[49m\u001b[43m(\u001b[49m\u001b[43mlabels\u001b[49m\u001b[43m,\u001b[49m\u001b[43m \u001b[49m\u001b[43merrors\u001b[49m\u001b[38;5;241;43m=\u001b[39;49m\u001b[43merrors\u001b[49m\u001b[43m)\u001b[49m\n\u001b[0;32m   4547\u001b[0m     indexer \u001b[38;5;241m=\u001b[39m axis\u001b[38;5;241m.\u001b[39mget_indexer(new_axis)\n\u001b[0;32m   4549\u001b[0m \u001b[38;5;66;03m# Case for non-unique axis\u001b[39;00m\n\u001b[0;32m   4550\u001b[0m \u001b[38;5;28;01melse\u001b[39;00m:\n",
      "File \u001b[1;32m~\\anaconda3\\envs\\My_38\\lib\\site-packages\\pandas\\core\\indexes\\base.py:6934\u001b[0m, in \u001b[0;36mIndex.drop\u001b[1;34m(self, labels, errors)\u001b[0m\n\u001b[0;32m   6932\u001b[0m \u001b[38;5;28;01mif\u001b[39;00m mask\u001b[38;5;241m.\u001b[39many():\n\u001b[0;32m   6933\u001b[0m     \u001b[38;5;28;01mif\u001b[39;00m errors \u001b[38;5;241m!=\u001b[39m \u001b[38;5;124m\"\u001b[39m\u001b[38;5;124mignore\u001b[39m\u001b[38;5;124m\"\u001b[39m:\n\u001b[1;32m-> 6934\u001b[0m         \u001b[38;5;28;01mraise\u001b[39;00m \u001b[38;5;167;01mKeyError\u001b[39;00m(\u001b[38;5;124mf\u001b[39m\u001b[38;5;124m\"\u001b[39m\u001b[38;5;132;01m{\u001b[39;00m\u001b[38;5;28mlist\u001b[39m(labels[mask])\u001b[38;5;132;01m}\u001b[39;00m\u001b[38;5;124m not found in axis\u001b[39m\u001b[38;5;124m\"\u001b[39m)\n\u001b[0;32m   6935\u001b[0m     indexer \u001b[38;5;241m=\u001b[39m indexer[\u001b[38;5;241m~\u001b[39mmask]\n\u001b[0;32m   6936\u001b[0m \u001b[38;5;28;01mreturn\u001b[39;00m \u001b[38;5;28mself\u001b[39m\u001b[38;5;241m.\u001b[39mdelete(indexer)\n",
      "\u001b[1;31mKeyError\u001b[0m: \"['황해북도'] not found in axis\""
     ]
    }
   ],
   "source": [
    "\n",
    "# group_area = group_area.drop(\"황해북도\")\n",
    "# group_area"
   ]
  },
  {
   "cell_type": "code",
   "execution_count": 53,
   "id": "d8b6d9bc-3234-433c-b160-0070f83642fd",
   "metadata": {
    "scrolled": true
   },
   "outputs": [
    {
     "name": "stdout",
     "output_type": "stream",
     "text": [
      "================울산광역시================\n",
      "412821    현대중공업주식회사\n",
      "28935        근로복지공단\n",
      "160060    (주)현대미포조선\n",
      "Name: 사업장명, dtype: object\n",
      "company = ['현대중공업주식회사']\n",
      "================서울특별시================\n",
      "3357        현대자동차(주)\n",
      "14324        엘지전자(주)\n",
      "166280    엘지디스플레이(주)\n",
      "Name: 사업장명, dtype: object\n",
      "company = ['현대중공업주식회사', '현대자동차(주)']\n",
      "================경기도================\n",
      "4586            삼성전자(주)\n",
      "149675    에스케이하이닉스 주식회사\n",
      "213505       삼성디스플레이(주)\n",
      "Name: 사업장명, dtype: object\n",
      "company = ['현대중공업주식회사', '현대자동차(주)', '삼성전자(주)']\n",
      "================충청남도================\n",
      "48631     현대제철주식회사당진공장\n",
      "49153           코웨이(주)\n",
      "106757      현대트랜시스주식회사\n",
      "Name: 사업장명, dtype: object\n",
      "company = ['현대중공업주식회사', '현대자동차(주)', '삼성전자(주)', '현대제철주식회사당진공장']\n",
      "================경상북도================\n",
      "159379        (주)포스코\n",
      "11793     한국수력원자력(주)\n",
      "150801        한국도로공사\n",
      "Name: 사업장명, dtype: object\n",
      "company = ['현대중공업주식회사', '현대자동차(주)', '삼성전자(주)', '현대제철주식회사당진공장', '(주)포스코']\n",
      "================경상남도================\n",
      "160377    삼성중공업(주)거제조선소\n",
      "159156        대우조선해양(주)\n",
      "173823         한국토지주택공사\n",
      "Name: 사업장명, dtype: object\n",
      "company = ['현대중공업주식회사', '현대자동차(주)', '삼성전자(주)', '현대제철주식회사당진공장', '(주)포스코', '삼성중공업(주)거제조선소']\n",
      "================대전광역시================\n",
      "5059        한국철도공사\n",
      "155539     한국수자원공사\n",
      "155748    (주)케이티앤지\n",
      "Name: 사업장명, dtype: object\n",
      "company = ['현대중공업주식회사', '현대자동차(주)', '삼성전자(주)', '현대제철주식회사당진공장', '(주)포스코', '삼성중공업(주)거제조선소', '한국철도공사']\n",
      "================인천광역시================\n",
      "17981            한국지엠주식회사\n",
      "197288        삼성바이오로직스(주)\n",
      "396434    지엠테크니컬센터코리아주식회사\n",
      "Name: 사업장명, dtype: object\n",
      "company = ['현대중공업주식회사', '현대자동차(주)', '삼성전자(주)', '현대제철주식회사당진공장', '(주)포스코', '삼성중공업(주)거제조선소', '한국철도공사', '한국지엠주식회사']\n",
      "================전라남도================\n",
      "3292        한국전력공사\n",
      "3465      한전KPS(주)\n",
      "151858     한국농어촌공사\n",
      "Name: 사업장명, dtype: object\n",
      "company = ['현대중공업주식회사', '현대자동차(주)', '삼성전자(주)', '현대제철주식회사당진공장', '(주)포스코', '삼성중공업(주)거제조선소', '한국철도공사', '한국지엠주식회사', '한국전력공사']\n",
      "================세종특별자치시================\n",
      "223744                  한국콜마주식회사\n",
      "167265    콘티넨탈 오토모티브 일렉트로닉스 유한회사\n",
      "369827         세종특별자치시교육청(교육복지과)\n",
      "Name: 사업장명, dtype: object\n",
      "company = ['현대중공업주식회사', '현대자동차(주)', '삼성전자(주)', '현대제철주식회사당진공장', '(주)포스코', '삼성중공업(주)거제조선소', '한국철도공사', '한국지엠주식회사', '한국전력공사', '한국콜마주식회사']\n",
      "================충청북도================\n",
      "285829            (주)심텍\n",
      "154008    엘에스일렉트릭(주) 청주\n",
      "563            한국가스안전공사\n",
      "Name: 사업장명, dtype: object\n",
      "company = ['현대중공업주식회사', '현대자동차(주)', '삼성전자(주)', '현대제철주식회사당진공장', '(주)포스코', '삼성중공업(주)거제조선소', '한국철도공사', '한국지엠주식회사', '한국전력공사', '한국콜마주식회사', '(주)심텍']\n",
      "================부산광역시================\n",
      "86585         부산교통공사\n",
      "109656    르노삼성자동차(주)\n",
      "85363        (주)부산은행\n",
      "Name: 사업장명, dtype: object\n",
      "company = ['현대중공업주식회사', '현대자동차(주)', '삼성전자(주)', '현대제철주식회사당진공장', '(주)포스코', '삼성중공업(주)거제조선소', '한국철도공사', '한국지엠주식회사', '한국전력공사', '한국콜마주식회사', '(주)심텍', '부산교통공사']\n",
      "================대구광역시================\n",
      "3067       한국가스공사\n",
      "92494    주식회사대구은행\n",
      "1318       신용보증기금\n",
      "Name: 사업장명, dtype: object\n",
      "company = ['현대중공업주식회사', '현대자동차(주)', '삼성전자(주)', '현대제철주식회사당진공장', '(주)포스코', '삼성중공업(주)거제조선소', '한국철도공사', '한국지엠주식회사', '한국전력공사', '한국콜마주식회사', '(주)심텍', '부산교통공사', '한국가스공사']\n",
      "================강원도================\n",
      "3947       국민건강보험공단\n",
      "100554      (주)강원랜드\n",
      "2948      건강보험심사평가원\n",
      "Name: 사업장명, dtype: object\n",
      "company = ['현대중공업주식회사', '현대자동차(주)', '삼성전자(주)', '현대제철주식회사당진공장', '(주)포스코', '삼성중공업(주)거제조선소', '한국철도공사', '한국지엠주식회사', '한국전력공사', '한국콜마주식회사', '(주)심텍', '부산교통공사', '한국가스공사', '국민건강보험공단']\n",
      "================광주광역시================\n",
      "103431    기아(주) AutoLand광주\n",
      "104003       앰코테크놀로지코리아(주)\n",
      "157311        금호타이어(주)곡성공장\n",
      "Name: 사업장명, dtype: object\n",
      "company = ['현대중공업주식회사', '현대자동차(주)', '삼성전자(주)', '현대제철주식회사당진공장', '(주)포스코', '삼성중공업(주)거제조선소', '한국철도공사', '한국지엠주식회사', '한국전력공사', '한국콜마주식회사', '(주)심텍', '부산교통공사', '한국가스공사', '국민건강보험공단', '기아(주) AutoLand광주']\n",
      "================전북특별자치도================\n",
      "3027        국민연금공단\n",
      "3671      한국전기안전공사\n",
      "157079       (주)하림\n",
      "Name: 사업장명, dtype: object\n",
      "company = ['현대중공업주식회사', '현대자동차(주)', '삼성전자(주)', '현대제철주식회사당진공장', '(주)포스코', '삼성중공업(주)거제조선소', '한국철도공사', '한국지엠주식회사', '한국전력공사', '한국콜마주식회사', '(주)심텍', '부산교통공사', '한국가스공사', '국민건강보험공단', '기아(주) AutoLand광주', '국민연금공단']\n",
      "================제주특별자치도================\n",
      "59550    주식회사 카카오\n",
      "53420     (주)제주항공\n",
      "13055      네오플(주)\n",
      "Name: 사업장명, dtype: object\n",
      "company = ['현대중공업주식회사', '현대자동차(주)', '삼성전자(주)', '현대제철주식회사당진공장', '(주)포스코', '삼성중공업(주)거제조선소', '한국철도공사', '한국지엠주식회사', '한국전력공사', '한국콜마주식회사', '(주)심텍', '부산교통공사', '한국가스공사', '국민건강보험공단', '기아(주) AutoLand광주', '국민연금공단', '주식회사 카카오']\n"
     ]
    }
   ],
   "source": [
    "col_list = group_area.index.to_list()\n",
    "company = []\n",
    "color = []\n",
    "for col in col_list:\n",
    "    print(f\"================{col}================\")\n",
    "    print(pensionDF[pensionDF[\"시도\"]==col].sort_values(\"당월고지금액\", ascending=False).head(3)[\"사업장명\"])\n",
    "    sr = pensionDF[pensionDF[\"시도\"]==col].sort_values(\"당월고지금액\", ascending=False).head(1)[\"사업장명\"]\n",
    "    if \"광역시\" in col:\n",
    "        color.append(\"red\")\n",
    "    else:\n",
    "        color.append(\"gray\")\n",
    "    company += sr.to_list()\n",
    "    print(f\"company = {company}\")"
   ]
  },
  {
   "cell_type": "code",
   "execution_count": 55,
   "id": "f905cda4-3248-4a97-b98c-ae8241cea0bd",
   "metadata": {},
   "outputs": [
    {
     "data": {
      "image/png": "[encoded data removed]",
      "text/plain": [
       "<Figure size 2000x1000 with 1 Axes>"
      ]
     },
     "metadata": {},
     "output_type": "display_data"
    }
   ],
   "source": [
    "avg = group_area[\"div\"].mean()\n",
    "plt.figure(figsize=(20, 10))\n",
    "x = group_area.index.to_list()\n",
    "y = group_area[\"div\"].to_list()\n",
    "\n",
    "plt.plot(x, [avg]*len(x), \"k--\")\n",
    "bar = plt.bar(x, y, color = color)\n",
    "\n",
    "\n",
    "plt.xticks(rotation=70)\n",
    "plt.ylim(220000, 350000)\n",
    "plt.rc('xtick', labelsize=15)\n",
    "plt.rc('ytick', labelsize=15)\n",
    "\n",
    "idx = 0\n",
    "\n",
    "plt.title(\"2021년 06월\", fontsize = \"30\")\n",
    "# 숫자 넣는 부분\n",
    "for rect in bar:\n",
    "    height = rect.get_height()\n",
    "    if idx < 8:\n",
    "        plt.text(rect.get_x() + rect.get_width()/2.0, height, company[idx], ha='center', va='top', size = 15, rotation=90)\n",
    "    else:    \n",
    "        plt.text(rect.get_x() + rect.get_width()/2.0, height, company[idx], ha='center', va='bottom', size = 15, rotation=90)\n",
    "    idx += 1\n",
    "\n",
    "plt.text(rect.get_x() + rect.get_width()/2.0, avg, f\"평균:{round(avg)}\", ha='center', va='bottom', size = 15)\n",
    "\n",
    "plt.show()"
   ]
  },
  {
   "cell_type": "code",
   "execution_count": 50,
   "id": "fea497aa-d14f-49b3-811e-adf0161d7228",
   "metadata": {},
   "outputs": [
    {
     "data": {
      "text/plain": [
       "['현대중공업주식회사',\n",
       " '현대자동차(주)',\n",
       " '삼성전자(주)',\n",
       " '현대제철주식회사당진공장',\n",
       " '(주)포스코',\n",
       " '삼성중공업(주)거제조선소',\n",
       " '한국철도공사',\n",
       " '한국지엠주식회사',\n",
       " '한국전력공사',\n",
       " '한국콜마주식회사',\n",
       " '(주)심텍',\n",
       " '부산교통공사',\n",
       " '한국가스공사',\n",
       " '국민건강보험공단',\n",
       " '기아(주) AutoLand광주',\n",
       " '국민연금공단',\n",
       " '주식회사 카카오']"
      ]
     },
     "execution_count": 50,
     "metadata": {},
     "output_type": "execute_result"
    }
   ],
   "source": [
    "company"
   ]
  },
  {
   "cell_type": "code",
   "execution_count": null,
   "id": "0c475575-afa2-4d52-8385-f9d3fd38a10d",
   "metadata": {},
   "outputs": [],
   "source": []
  },
  {
   "cell_type": "code",
   "execution_count": null,
   "id": "1672c467-a871-4a45-a596-0e430be72701",
   "metadata": {},
   "outputs": [],
   "source": []
  },
  {
   "cell_type": "code",
   "execution_count": null,
   "id": "a8d8b962-ed0f-48bb-aba9-13f920a3d07c",
   "metadata": {},
   "outputs": [],
   "source": []
  }
 ],
 "metadata": {
  "kernelspec": {
   "display_name": "Python 3 (ipykernel)",
   "language": "python",
   "name": "python3"
  },
  "language_info": {
   "codemirror_mode": {
    "name": "ipython",
    "version": 3
   },
   "file_extension": ".py",
   "mimetype": "text/x-python",
   "name": "python",
   "nbconvert_exporter": "python",
   "pygments_lexer": "ipython3",
   "version": "3.8.18"
  }
 },
 "nbformat": 4,
 "nbformat_minor": 5
}
