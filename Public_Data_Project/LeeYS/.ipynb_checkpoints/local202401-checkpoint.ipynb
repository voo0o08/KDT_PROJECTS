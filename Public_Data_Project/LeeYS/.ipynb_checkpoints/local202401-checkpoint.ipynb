{
 "cells": [
  {
   "cell_type": "markdown",
   "id": "e6b77547-1280-41b8-95cf-414f9e4ecfab",
   "metadata": {},
   "source": [
    "# only 국민연금 가입 data"
   ]
  },
  {
   "cell_type": "code",
   "execution_count": 1,
   "id": "26f5e9c4-517a-4559-b30b-5aa00a4f92fc",
   "metadata": {},
   "outputs": [],
   "source": [
    "import pandas as pd\n",
    "import numpy as np\n",
    "import csv\n",
    "import\tkoreanize_matplotlib\n",
    "import matplotlib.pyplot as plt"
   ]
  },
  {
   "cell_type": "markdown",
   "id": "b1b29b07-1c70-4581-b3f0-d117d5e6d550",
   "metadata": {},
   "source": [
    "## 국민연금 가입"
   ]
  },
  {
   "cell_type": "code",
   "execution_count": 10,
   "id": "72e420ef-65f5-4ad1-b984-019a01ba1a7e",
   "metadata": {},
   "outputs": [
    {
     "name": "stderr",
     "output_type": "stream",
     "text": [
      "C:\\Users\\kdp\\AppData\\Local\\Temp\\ipykernel_13908\\3590243499.py:2: DtypeWarning: Columns (13) have mixed types. Specify dtype option on import or set low_memory=False.\n",
      "  pensionDF = pd.read_csv(f1, encoding=\"cp949\")\n"
     ]
    }
   ],
   "source": [
    "f1 = \"국민연금 가입 사업장 내역_202007.csv\"\n",
    "pensionDF = pd.read_csv(f1, encoding=\"cp949\")"
   ]
  },
  {
   "cell_type": "code",
   "execution_count": 11,
   "id": "ad7dce18-7303-4b28-9e2f-c13c9d527011",
   "metadata": {
    "scrolled": true
   },
   "outputs": [
    {
     "data": {
      "text/html": [
       "<div>\n",
       "<style scoped>\n",
       "    .dataframe tbody tr th:only-of-type {\n",
       "        vertical-align: middle;\n",
       "    }\n",
       "\n",
       "    .dataframe tbody tr th {\n",
       "        vertical-align: top;\n",
       "    }\n",
       "\n",
       "    .dataframe thead th {\n",
       "        text-align: right;\n",
       "    }\n",
       "</style>\n",
       "<table border=\"1\" class=\"dataframe\">\n",
       "  <thead>\n",
       "    <tr style=\"text-align: right;\">\n",
       "      <th></th>\n",
       "      <th>자료생성년월(자격마감일(사유발생일이 속하는 달의 다음달 15일)까지 신고분 반영)</th>\n",
       "      <th>사업장명</th>\n",
       "      <th>사업자등록번호</th>\n",
       "      <th>사업장가입상태코드 1 등록 2 탈퇴</th>\n",
       "      <th>우편번호</th>\n",
       "      <th>사업장지번상세주소</th>\n",
       "      <th>사업장도로명상세주소</th>\n",
       "      <th>고객법정동주소코드</th>\n",
       "      <th>고객행정동주소코드</th>\n",
       "      <th>법정동주소광역시도코드</th>\n",
       "      <th>...</th>\n",
       "      <th>사업장형태구분코드 1 법인 2 개인</th>\n",
       "      <th>사업장업종코드</th>\n",
       "      <th>사업장업종코드명</th>\n",
       "      <th>적용일자</th>\n",
       "      <th>재등록일자</th>\n",
       "      <th>탈퇴일자</th>\n",
       "      <th>가입자수(고지인원 수 포함)</th>\n",
       "      <th>당월고지금액( 국민연금법 시행령 제5조에 의거 기준소득월액 상한액 적용으로 실제소득과 고지금액은 상이할 수 있음  상한액 2019.7.~2020.6. 4860000원(2019.7.1.기준) 상한액 2020.7.~2021.6. 5030000원(2020.7.1.기준) 상한액 2021.7.~2022.6.  5240000원(2021.7.1.기준) )</th>\n",
       "      <th>신규취득자수(납부재개 포함  전달 고지대상자와 비교하므로 실제 취득자와 상이할 수 있음(초일취득 고지 초일이 아닌경우. 미고지(다음달 취득자수에 반영))</th>\n",
       "      <th>상실가입자수(납부예외 포함  전달 고지대상자와 비교하므로 실제 퇴사자와 상이할 수 있음(초일이 아닌 상실자는 다음달 상실자수에 반영) 국민연금법 제6조 8조 동법 시행령 제18조에 의거 60세 도달하거나 퇴직연금수급자 조기노령연금 수급권을 취득한 자는 가입대상에서 제외되며 18세미만 기초수급자는 본인희망에 의해 제외될 수 있음)</th>\n",
       "    </tr>\n",
       "  </thead>\n",
       "  <tbody>\n",
       "    <tr>\n",
       "      <th>0</th>\n",
       "      <td>2020-06</td>\n",
       "      <td>우성기전(주)</td>\n",
       "      <td>126811</td>\n",
       "      <td>1</td>\n",
       "      <td>12816</td>\n",
       "      <td>경기도 광주시 도척면</td>\n",
       "      <td>경기도 광주시 도척면 도척윗로</td>\n",
       "      <td>4161033025</td>\n",
       "      <td>4161033025</td>\n",
       "      <td>41</td>\n",
       "      <td>...</td>\n",
       "      <td>1</td>\n",
       "      <td>292201</td>\n",
       "      <td>동력식 수지 공구 제조업</td>\n",
       "      <td>1988-01-01</td>\n",
       "      <td>NaN</td>\n",
       "      <td>NaN</td>\n",
       "      <td>5</td>\n",
       "      <td>820680</td>\n",
       "      <td>0</td>\n",
       "      <td>0</td>\n",
       "    </tr>\n",
       "    <tr>\n",
       "      <th>1</th>\n",
       "      <td>2020-06</td>\n",
       "      <td>서능공원묘지운영회(재)</td>\n",
       "      <td>102820</td>\n",
       "      <td>1</td>\n",
       "      <td>11191</td>\n",
       "      <td>경기도 포천시 내촌면</td>\n",
       "      <td></td>\n",
       "      <td>4165032022</td>\n",
       "      <td>4165032022</td>\n",
       "      <td>41</td>\n",
       "      <td>...</td>\n",
       "      <td>1</td>\n",
       "      <td>701700</td>\n",
       "      <td>화장터 운영 묘지 분양 및 관리업</td>\n",
       "      <td>1988-01-01</td>\n",
       "      <td>NaN</td>\n",
       "      <td>NaN</td>\n",
       "      <td>13</td>\n",
       "      <td>3131140</td>\n",
       "      <td>0</td>\n",
       "      <td>0</td>\n",
       "    </tr>\n",
       "    <tr>\n",
       "      <th>2</th>\n",
       "      <td>2020-06</td>\n",
       "      <td>노들새마을금고</td>\n",
       "      <td>108820</td>\n",
       "      <td>1</td>\n",
       "      <td>06923</td>\n",
       "      <td>서울특별시 동작구 노량진동</td>\n",
       "      <td>서울특별시 동작구 만양로</td>\n",
       "      <td>1159010100</td>\n",
       "      <td>1159051000</td>\n",
       "      <td>11</td>\n",
       "      <td>...</td>\n",
       "      <td>1</td>\n",
       "      <td>659202</td>\n",
       "      <td>신용조합</td>\n",
       "      <td>1988-01-01</td>\n",
       "      <td>NaN</td>\n",
       "      <td>NaN</td>\n",
       "      <td>14</td>\n",
       "      <td>4178840</td>\n",
       "      <td>0</td>\n",
       "      <td>0</td>\n",
       "    </tr>\n",
       "    <tr>\n",
       "      <th>3</th>\n",
       "      <td>2020-06</td>\n",
       "      <td>유창성업(주)</td>\n",
       "      <td>122812</td>\n",
       "      <td>1</td>\n",
       "      <td>22849</td>\n",
       "      <td>인천광역시 서구 오류동</td>\n",
       "      <td>인천광역시 서구 갑문2로</td>\n",
       "      <td>2826011900</td>\n",
       "      <td>2826072000</td>\n",
       "      <td>28</td>\n",
       "      <td>...</td>\n",
       "      <td>1</td>\n",
       "      <td>749604</td>\n",
       "      <td>그 외 기타 분류 안된 사업 지원 서비스업(기타임가공</td>\n",
       "      <td>1988-01-01</td>\n",
       "      <td>NaN</td>\n",
       "      <td>NaN</td>\n",
       "      <td>30</td>\n",
       "      <td>5507220</td>\n",
       "      <td>0</td>\n",
       "      <td>2</td>\n",
       "    </tr>\n",
       "    <tr>\n",
       "      <th>4</th>\n",
       "      <td>2020-06</td>\n",
       "      <td>희성전자(주)</td>\n",
       "      <td>106810</td>\n",
       "      <td>1</td>\n",
       "      <td>04410</td>\n",
       "      <td>서울특별시 용산구 한남동</td>\n",
       "      <td>서울특별시 용산구 독서당로14길</td>\n",
       "      <td>1117013100</td>\n",
       "      <td>1117067000</td>\n",
       "      <td>11</td>\n",
       "      <td>...</td>\n",
       "      <td>1</td>\n",
       "      <td>701201</td>\n",
       "      <td>비주거용 건물 임대업(점포 자기땅)</td>\n",
       "      <td>1988-01-01</td>\n",
       "      <td>NaN</td>\n",
       "      <td>NaN</td>\n",
       "      <td>497</td>\n",
       "      <td>199600660</td>\n",
       "      <td>0</td>\n",
       "      <td>1</td>\n",
       "    </tr>\n",
       "  </tbody>\n",
       "</table>\n",
       "<p>5 rows × 22 columns</p>\n",
       "</div>"
      ],
      "text/plain": [
       "  자료생성년월(자격마감일(사유발생일이 속하는 달의 다음달 15일)까지 신고분 반영)          사업장명   사업자등록번호  \\\n",
       "0                                       2020-06       우성기전(주)    126811   \n",
       "1                                       2020-06  서능공원묘지운영회(재)    102820   \n",
       "2                                       2020-06       노들새마을금고    108820   \n",
       "3                                       2020-06       유창성업(주)    122812   \n",
       "4                                       2020-06       희성전자(주)    106810   \n",
       "\n",
       "    사업장가입상태코드 1 등록 2 탈퇴   우편번호       사업장지번상세주소         사업장도로명상세주소   고객법정동주소코드  \\\n",
       "0                     1  12816     경기도 광주시 도척면   경기도 광주시 도척면 도척윗로  4161033025   \n",
       "1                     1  11191     경기도 포천시 내촌면                     4165032022   \n",
       "2                     1  06923  서울특별시 동작구 노량진동      서울특별시 동작구 만양로  1159010100   \n",
       "3                     1  22849    인천광역시 서구 오류동      인천광역시 서구 갑문2로  2826011900   \n",
       "4                     1  04410   서울특별시 용산구 한남동  서울특별시 용산구 독서당로14길  1117013100   \n",
       "\n",
       "    고객행정동주소코드   법정동주소광역시도코드  ...   사업장형태구분코드 1 법인 2 개인   사업장업종코드  \\\n",
       "0  4161033025            41  ...                     1    292201   \n",
       "1  4165032022            41  ...                     1    701700   \n",
       "2  1159051000            11  ...                     1    659202   \n",
       "3  2826072000            28  ...                     1    749604   \n",
       "4  1117067000            11  ...                     1    701201   \n",
       "\n",
       "                        사업장업종코드명        적용일자  재등록일자  탈퇴일자  가입자수(고지인원 수 포함)  \\\n",
       "0                  동력식 수지 공구 제조업  1988-01-01    NaN   NaN                5   \n",
       "1             화장터 운영 묘지 분양 및 관리업  1988-01-01    NaN   NaN               13   \n",
       "2                           신용조합  1988-01-01    NaN   NaN               14   \n",
       "3  그 외 기타 분류 안된 사업 지원 서비스업(기타임가공  1988-01-01    NaN   NaN               30   \n",
       "4            비주거용 건물 임대업(점포 자기땅)  1988-01-01    NaN   NaN              497   \n",
       "\n",
       "   당월고지금액( 국민연금법 시행령 제5조에 의거 기준소득월액 상한액 적용으로 실제소득과 고지금액은 상이할 수 있음  상한액 2019.7.~2020.6. 4860000원(2019.7.1.기준) 상한액 2020.7.~2021.6. 5030000원(2020.7.1.기준) 상한액 2021.7.~2022.6.  5240000원(2021.7.1.기준) )  \\\n",
       "0                                             820680                                                                                                                                                  \n",
       "1                                            3131140                                                                                                                                                  \n",
       "2                                            4178840                                                                                                                                                  \n",
       "3                                            5507220                                                                                                                                                  \n",
       "4                                          199600660                                                                                                                                                  \n",
       "\n",
       "    신규취득자수(납부재개 포함  전달 고지대상자와 비교하므로 실제 취득자와 상이할 수 있음(초일취득 고지 초일이 아닌경우. 미고지(다음달 취득자수에 반영))  \\\n",
       "0                                                  0                                        \n",
       "1                                                  0                                        \n",
       "2                                                  0                                        \n",
       "3                                                  0                                        \n",
       "4                                                  0                                        \n",
       "\n",
       "    상실가입자수(납부예외 포함  전달 고지대상자와 비교하므로 실제 퇴사자와 상이할 수 있음(초일이 아닌 상실자는 다음달 상실자수에 반영) 국민연금법 제6조 8조 동법 시행령 제18조에 의거 60세 도달하거나 퇴직연금수급자 조기노령연금 수급권을 취득한 자는 가입대상에서 제외되며 18세미만 기초수급자는 본인희망에 의해 제외될 수 있음)  \n",
       "0                                                  0                                                                                                                                          \n",
       "1                                                  0                                                                                                                                          \n",
       "2                                                  0                                                                                                                                          \n",
       "3                                                  2                                                                                                                                          \n",
       "4                                                  1                                                                                                                                          \n",
       "\n",
       "[5 rows x 22 columns]"
      ]
     },
     "execution_count": 11,
     "metadata": {},
     "output_type": "execute_result"
    }
   ],
   "source": [
    "pensionDF.head()"
   ]
  },
  {
   "cell_type": "code",
   "execution_count": 12,
   "id": "5e3cc761-150d-439c-9aef-6fb8183b8e87",
   "metadata": {},
   "outputs": [
    {
     "data": {
      "text/plain": [
       "Index(['자료생성년월(자격마감일(사유발생일이 속하는 달의 다음달 15일)까지 신고분 반영)', ' 사업장명', ' 사업자등록번호',\n",
       "       ' 사업장가입상태코드 1 등록 2 탈퇴', ' 우편번호', ' 사업장지번상세주소', ' 사업장도로명상세주소',\n",
       "       ' 고객법정동주소코드', ' 고객행정동주소코드', ' 법정동주소광역시도코드', ' 법정동주소광역시시군구코드',\n",
       "       ' 법정동주소광역시시군구읍면동코드', ' 사업장형태구분코드 1 법인 2 개인', ' 사업장업종코드', ' 사업장업종코드명',\n",
       "       ' 적용일자', ' 재등록일자', ' 탈퇴일자', ' 가입자수(고지인원 수 포함)',\n",
       "       ' 당월고지금액( 국민연금법 시행령 제5조에 의거 기준소득월액 상한액 적용으로 실제소득과 고지금액은 상이할 수 있음  상한액 2019.7.~2020.6. 4860000원(2019.7.1.기준) 상한액 2020.7.~2021.6. 5030000원(2020.7.1.기준) 상한액 2021.7.~2022.6.  5240000원(2021.7.1.기준) )',\n",
       "       ' 신규취득자수(납부재개 포함  전달 고지대상자와 비교하므로 실제 취득자와 상이할 수 있음(초일취득 고지 초일이 아닌경우. 미고지(다음달 취득자수에 반영))',\n",
       "       ' 상실가입자수(납부예외 포함  전달 고지대상자와 비교하므로 실제 퇴사자와 상이할 수 있음(초일이 아닌 상실자는 다음달 상실자수에 반영) 국민연금법 제6조 8조 동법 시행령 제18조에 의거 60세 도달하거나 퇴직연금수급자 조기노령연금 수급권을 취득한 자는 가입대상에서 제외되며 18세미만 기초수급자는 본인희망에 의해 제외될 수 있음)'],\n",
       "      dtype='object')"
      ]
     },
     "execution_count": 12,
     "metadata": {},
     "output_type": "execute_result"
    }
   ],
   "source": [
    "pensionDF.columns"
   ]
  },
  {
   "cell_type": "markdown",
   "id": "788db4a5-e6cd-4810-95e5-329a2d28f907",
   "metadata": {},
   "source": [
    "사용할 데이터 col을 뽑아보자"
   ]
  },
  {
   "cell_type": "code",
   "execution_count": 13,
   "id": "b958898d-acd4-478b-8412-e9f9dab17b88",
   "metadata": {},
   "outputs": [],
   "source": [
    "pensionDF['사업장지번상세주소'] = np.where(pensionDF[' 사업장지번상세주소'].str.strip() != '', pensionDF[' 사업장지번상세주소'], pensionDF[' 사업장도로명상세주소'])"
   ]
  },
  {
   "cell_type": "code",
   "execution_count": 14,
   "id": "8e410b93-dbde-4c58-b7a3-70bf0e012057",
   "metadata": {},
   "outputs": [],
   "source": [
    "pensionDF = pensionDF[[\" 사업장명\", \" 사업장지번상세주소\", \" 가입자수(고지인원 수 포함)\", \" 당월고지금액( 국민연금법 시행령 제5조에 의거 기준소득월액 상한액 적용으로 실제소득과 고지금액은 상이할 수 있음  상한액 2019.7.~2020.6. 4860000원(2019.7.1.기준) 상한액 2020.7.~2021.6. 5030000원(2020.7.1.기준) 상한액 2021.7.~2022.6.  5240000원(2021.7.1.기준) )\"]]"
   ]
  },
  {
   "cell_type": "code",
   "execution_count": 15,
   "id": "f19712bb-b119-412a-90fc-4081b3a1b9e6",
   "metadata": {
    "scrolled": true
   },
   "outputs": [
    {
     "data": {
      "text/plain": [
       "Index([' 사업장명', ' 사업장지번상세주소', ' 가입자수(고지인원 수 포함)',\n",
       "       ' 당월고지금액( 국민연금법 시행령 제5조에 의거 기준소득월액 상한액 적용으로 실제소득과 고지금액은 상이할 수 있음  상한액 2019.7.~2020.6. 4860000원(2019.7.1.기준) 상한액 2020.7.~2021.6. 5030000원(2020.7.1.기준) 상한액 2021.7.~2022.6.  5240000원(2021.7.1.기준) )'],\n",
       "      dtype='object')"
      ]
     },
     "execution_count": 15,
     "metadata": {},
     "output_type": "execute_result"
    }
   ],
   "source": [
    "# pensionDF[\" 사업장지번상세주소\"].unique()\n",
    "pensionDF.columns"
   ]
  },
  {
   "cell_type": "code",
   "execution_count": 16,
   "id": "84591f40-84b0-481c-9e22-4ab43adbdddc",
   "metadata": {},
   "outputs": [
    {
     "data": {
      "text/plain": [
       "Index(['사업장명', '본사주소', '가입자수', '당월고지금액'], dtype='object')"
      ]
     },
     "execution_count": 16,
     "metadata": {},
     "output_type": "execute_result"
    }
   ],
   "source": [
    "pensionDF.columns = [\"사업장명\", \"본사주소\", \"가입자수\", \"당월고지금액\"]\n",
    "pensionDF.columns"
   ]
  },
  {
   "cell_type": "code",
   "execution_count": 17,
   "id": "c6c2f40d-ee87-4de3-9230-6c411527cbee",
   "metadata": {
    "scrolled": true
   },
   "outputs": [],
   "source": [
    "# pensionDF.drop(pensionDF[\"본사주소\"] == \" \")"
   ]
  },
  {
   "cell_type": "markdown",
   "id": "fe6dfc5e-49a3-455e-b6bc-131b9b41a55c",
   "metadata": {},
   "source": [
    "### 주소분리"
   ]
  },
  {
   "cell_type": "code",
   "execution_count": 18,
   "id": "5da3baa1-aff5-4f71-8849-2898e1cd1750",
   "metadata": {
    "scrolled": true
   },
   "outputs": [
    {
     "data": {
      "text/html": [
       "<div>\n",
       "<style scoped>\n",
       "    .dataframe tbody tr th:only-of-type {\n",
       "        vertical-align: middle;\n",
       "    }\n",
       "\n",
       "    .dataframe tbody tr th {\n",
       "        vertical-align: top;\n",
       "    }\n",
       "\n",
       "    .dataframe thead th {\n",
       "        text-align: right;\n",
       "    }\n",
       "</style>\n",
       "<table border=\"1\" class=\"dataframe\">\n",
       "  <thead>\n",
       "    <tr style=\"text-align: right;\">\n",
       "      <th></th>\n",
       "      <th>사업장명</th>\n",
       "      <th>본사주소</th>\n",
       "      <th>가입자수</th>\n",
       "      <th>당월고지금액</th>\n",
       "    </tr>\n",
       "  </thead>\n",
       "  <tbody>\n",
       "    <tr>\n",
       "      <th>379539</th>\n",
       "      <td>동리종합건설(주)-(일용)정관 꿈의 행복타운 부지조성공사</td>\n",
       "      <td>부산광역시 기장군 정관읍</td>\n",
       "      <td>0</td>\n",
       "      <td>0</td>\n",
       "    </tr>\n",
       "    <tr>\n",
       "      <th>26694</th>\n",
       "      <td>(주)이화실업</td>\n",
       "      <td>서울특별시 영등포구 신길동</td>\n",
       "      <td>0</td>\n",
       "      <td>0</td>\n",
       "    </tr>\n",
       "    <tr>\n",
       "      <th>92076</th>\n",
       "      <td>(주)마루아라</td>\n",
       "      <td>서울특별시 강서구 가양동</td>\n",
       "      <td>0</td>\n",
       "      <td>0</td>\n",
       "    </tr>\n",
       "    <tr>\n",
       "      <th>468264</th>\n",
       "      <td>（주）영성건설기술공사-(일용)군남 반딧불이 행복마을 경관개선 및 기반시설사업</td>\n",
       "      <td>전라남도 영광군 군남면</td>\n",
       "      <td>0</td>\n",
       "      <td>0</td>\n",
       "    </tr>\n",
       "    <tr>\n",
       "      <th>468268</th>\n",
       "      <td>퍼시픽종합건설(주)-(일용)탄방동 87-19번지 근생신축공사</td>\n",
       "      <td>대전광역시 서구 탄방동</td>\n",
       "      <td>0</td>\n",
       "      <td>0</td>\n",
       "    </tr>\n",
       "    <tr>\n",
       "      <th>...</th>\n",
       "      <td>...</td>\n",
       "      <td>...</td>\n",
       "      <td>...</td>\n",
       "      <td>...</td>\n",
       "    </tr>\n",
       "    <tr>\n",
       "      <th>173065</th>\n",
       "      <td>엘지디스플레이(주)</td>\n",
       "      <td>서울특별시 영등포구 여의도동</td>\n",
       "      <td>26726</td>\n",
       "      <td>11290838200</td>\n",
       "    </tr>\n",
       "    <tr>\n",
       "      <th>156145</th>\n",
       "      <td>에스케이하이닉스 주식회사</td>\n",
       "      <td>경기도 이천시 부발읍</td>\n",
       "      <td>27818</td>\n",
       "      <td>11567455580</td>\n",
       "    </tr>\n",
       "    <tr>\n",
       "      <th>14886</th>\n",
       "      <td>엘지전자(주)</td>\n",
       "      <td>서울특별시 영등포구 여의도동</td>\n",
       "      <td>40070</td>\n",
       "      <td>16425526440</td>\n",
       "    </tr>\n",
       "    <tr>\n",
       "      <th>3587</th>\n",
       "      <td>현대자동차(주)</td>\n",
       "      <td>서울특별시 서초구 양재동</td>\n",
       "      <td>67740</td>\n",
       "      <td>28539731280</td>\n",
       "    </tr>\n",
       "    <tr>\n",
       "      <th>4636</th>\n",
       "      <td>삼성전자(주)</td>\n",
       "      <td>경기도 수원시 영통구 매탄동</td>\n",
       "      <td>103025</td>\n",
       "      <td>43950453000</td>\n",
       "    </tr>\n",
       "  </tbody>\n",
       "</table>\n",
       "<p>514083 rows × 4 columns</p>\n",
       "</div>"
      ],
      "text/plain": [
       "                                              사업장명             본사주소    가입자수  \\\n",
       "379539             동리종합건설(주)-(일용)정관 꿈의 행복타운 부지조성공사    부산광역시 기장군 정관읍       0   \n",
       "26694                                      (주)이화실업   서울특별시 영등포구 신길동       0   \n",
       "92076                                      (주)마루아라    서울특별시 강서구 가양동       0   \n",
       "468264  （주）영성건설기술공사-(일용)군남 반딧불이 행복마을 경관개선 및 기반시설사업     전라남도 영광군 군남면       0   \n",
       "468268           퍼시픽종합건설(주)-(일용)탄방동 87-19번지 근생신축공사     대전광역시 서구 탄방동       0   \n",
       "...                                            ...              ...     ...   \n",
       "173065                                  엘지디스플레이(주)  서울특별시 영등포구 여의도동   26726   \n",
       "156145                               에스케이하이닉스 주식회사      경기도 이천시 부발읍   27818   \n",
       "14886                                      엘지전자(주)  서울특별시 영등포구 여의도동   40070   \n",
       "3587                                      현대자동차(주)    서울특별시 서초구 양재동   67740   \n",
       "4636                                       삼성전자(주)  경기도 수원시 영통구 매탄동  103025   \n",
       "\n",
       "             당월고지금액  \n",
       "379539            0  \n",
       "26694             0  \n",
       "92076             0  \n",
       "468264            0  \n",
       "468268            0  \n",
       "...             ...  \n",
       "173065  11290838200  \n",
       "156145  11567455580  \n",
       "14886   16425526440  \n",
       "3587    28539731280  \n",
       "4636    43950453000  \n",
       "\n",
       "[514083 rows x 4 columns]"
      ]
     },
     "execution_count": 18,
     "metadata": {},
     "output_type": "execute_result"
    }
   ],
   "source": [
    "pensionDF.sort_values(\"당월고지금액\")"
   ]
  },
  {
   "cell_type": "code",
   "execution_count": 19,
   "id": "10ec58e0-e389-466d-b573-922f8494e2db",
   "metadata": {},
   "outputs": [
    {
     "data": {
      "text/html": [
       "<div>\n",
       "<style scoped>\n",
       "    .dataframe tbody tr th:only-of-type {\n",
       "        vertical-align: middle;\n",
       "    }\n",
       "\n",
       "    .dataframe tbody tr th {\n",
       "        vertical-align: top;\n",
       "    }\n",
       "\n",
       "    .dataframe thead th {\n",
       "        text-align: right;\n",
       "    }\n",
       "</style>\n",
       "<table border=\"1\" class=\"dataframe\">\n",
       "  <thead>\n",
       "    <tr style=\"text-align: right;\">\n",
       "      <th></th>\n",
       "      <th>시도</th>\n",
       "      <th>군구</th>\n",
       "    </tr>\n",
       "  </thead>\n",
       "  <tbody>\n",
       "    <tr>\n",
       "      <th>0</th>\n",
       "      <td>경기도</td>\n",
       "      <td>광주시</td>\n",
       "    </tr>\n",
       "    <tr>\n",
       "      <th>1</th>\n",
       "      <td>경기도</td>\n",
       "      <td>포천시</td>\n",
       "    </tr>\n",
       "    <tr>\n",
       "      <th>2</th>\n",
       "      <td>서울특별시</td>\n",
       "      <td>동작구</td>\n",
       "    </tr>\n",
       "    <tr>\n",
       "      <th>3</th>\n",
       "      <td>인천광역시</td>\n",
       "      <td>서구</td>\n",
       "    </tr>\n",
       "    <tr>\n",
       "      <th>4</th>\n",
       "      <td>서울특별시</td>\n",
       "      <td>용산구</td>\n",
       "    </tr>\n",
       "  </tbody>\n",
       "</table>\n",
       "</div>"
      ],
      "text/plain": [
       "      시도   군구\n",
       "0    경기도  광주시\n",
       "1    경기도  포천시\n",
       "2  서울특별시  동작구\n",
       "3  인천광역시   서구\n",
       "4  서울특별시  용산구"
      ]
     },
     "execution_count": 19,
     "metadata": {},
     "output_type": "execute_result"
    }
   ],
   "source": [
    "addr = pd.DataFrame(pensionDF[\"본사주소\"])\n",
    "addr = addr[\"본사주소\"].apply(lambda x : x.split()[:2])\n",
    "addr =\tpd.DataFrame(addr.tolist(), columns=('시도', '군구'))\n",
    "addr.head()"
   ]
  },
  {
   "cell_type": "code",
   "execution_count": 20,
   "id": "2064a09d-5b89-4f43-abf0-d87840cc9dbf",
   "metadata": {
    "scrolled": true
   },
   "outputs": [
    {
     "data": {
      "text/html": [
       "<div>\n",
       "<style scoped>\n",
       "    .dataframe tbody tr th:only-of-type {\n",
       "        vertical-align: middle;\n",
       "    }\n",
       "\n",
       "    .dataframe tbody tr th {\n",
       "        vertical-align: top;\n",
       "    }\n",
       "\n",
       "    .dataframe thead th {\n",
       "        text-align: right;\n",
       "    }\n",
       "</style>\n",
       "<table border=\"1\" class=\"dataframe\">\n",
       "  <thead>\n",
       "    <tr style=\"text-align: right;\">\n",
       "      <th></th>\n",
       "      <th>사업장명</th>\n",
       "      <th>본사주소</th>\n",
       "      <th>가입자수</th>\n",
       "      <th>당월고지금액</th>\n",
       "      <th>시도</th>\n",
       "      <th>군구</th>\n",
       "      <th>나머지 주소</th>\n",
       "    </tr>\n",
       "  </thead>\n",
       "  <tbody>\n",
       "    <tr>\n",
       "      <th>0</th>\n",
       "      <td>우성기전(주)</td>\n",
       "      <td>경기도 광주시 도척면</td>\n",
       "      <td>5</td>\n",
       "      <td>820680</td>\n",
       "      <td>경기도</td>\n",
       "      <td>광주시</td>\n",
       "      <td>도척면</td>\n",
       "    </tr>\n",
       "    <tr>\n",
       "      <th>1</th>\n",
       "      <td>서능공원묘지운영회(재)</td>\n",
       "      <td>경기도 포천시 내촌면</td>\n",
       "      <td>13</td>\n",
       "      <td>3131140</td>\n",
       "      <td>경기도</td>\n",
       "      <td>포천시</td>\n",
       "      <td>내촌면</td>\n",
       "    </tr>\n",
       "    <tr>\n",
       "      <th>2</th>\n",
       "      <td>노들새마을금고</td>\n",
       "      <td>서울특별시 동작구 노량진동</td>\n",
       "      <td>14</td>\n",
       "      <td>4178840</td>\n",
       "      <td>서울특별시</td>\n",
       "      <td>동작구</td>\n",
       "      <td>노량진동</td>\n",
       "    </tr>\n",
       "    <tr>\n",
       "      <th>3</th>\n",
       "      <td>유창성업(주)</td>\n",
       "      <td>인천광역시 서구 오류동</td>\n",
       "      <td>30</td>\n",
       "      <td>5507220</td>\n",
       "      <td>인천광역시</td>\n",
       "      <td>서구</td>\n",
       "      <td>오류동</td>\n",
       "    </tr>\n",
       "    <tr>\n",
       "      <th>4</th>\n",
       "      <td>희성전자(주)</td>\n",
       "      <td>서울특별시 용산구 한남동</td>\n",
       "      <td>497</td>\n",
       "      <td>199600660</td>\n",
       "      <td>서울특별시</td>\n",
       "      <td>용산구</td>\n",
       "      <td>한남동</td>\n",
       "    </tr>\n",
       "  </tbody>\n",
       "</table>\n",
       "</div>"
      ],
      "text/plain": [
       "           사업장명            본사주소  가입자수     당월고지금액     시도   군구 나머지 주소\n",
       "0       우성기전(주)     경기도 광주시 도척면     5     820680    경기도  광주시    도척면\n",
       "1  서능공원묘지운영회(재)     경기도 포천시 내촌면    13    3131140    경기도  포천시    내촌면\n",
       "2       노들새마을금고  서울특별시 동작구 노량진동    14    4178840  서울특별시  동작구   노량진동\n",
       "3       유창성업(주)    인천광역시 서구 오류동    30    5507220  인천광역시   서구    오류동\n",
       "4       희성전자(주)   서울특별시 용산구 한남동   497  199600660  서울특별시  용산구    한남동"
      ]
     },
     "execution_count": 20,
     "metadata": {},
     "output_type": "execute_result"
    }
   ],
   "source": [
    "pensionDF[[\"시도\", \"군구\", \"나머지 주소\"]] = pensionDF[\"본사주소\"].str.split(' ', n=2, expand=True)\n",
    "pensionDF.head()"
   ]
  },
  {
   "cell_type": "code",
   "execution_count": 21,
   "id": "431b97d0-1272-4ff4-a75f-8a6f6ca31a4d",
   "metadata": {},
   "outputs": [],
   "source": [
    "pensionDF = pensionDF.drop(\"본사주소\", axis = True)"
   ]
  },
  {
   "cell_type": "code",
   "execution_count": 22,
   "id": "13f518eb-f667-4af7-a65b-6d584af5461e",
   "metadata": {},
   "outputs": [
    {
     "data": {
      "text/plain": [
       "array(['경기도', '서울특별시', '인천광역시', '전라북도', '충청남도', '충청북도', '강원도', '부산광역시',\n",
       "       '전라남도', '울산광역시', '경상북도', '세종특별자치시', '대구광역시', '경상남도', '제주특별자치도',\n",
       "       '광주광역시', '대전광역시', ''], dtype=object)"
      ]
     },
     "execution_count": 22,
     "metadata": {},
     "output_type": "execute_result"
    }
   ],
   "source": [
    "pensionDF[\"시도\"].unique()"
   ]
  },
  {
   "cell_type": "code",
   "execution_count": 23,
   "id": "2a5709f4-89ae-4638-8b1b-0c79d103f3e5",
   "metadata": {},
   "outputs": [],
   "source": [
    "# pensionDF[pensionDF[\"시도\"]==\"\"]\n",
    "pensionDF = pensionDF[pensionDF[\"시도\"] != \"\"]"
   ]
  },
  {
   "cell_type": "code",
   "execution_count": 24,
   "id": "0f015c7f-b665-4a18-9387-2b4dbb9412a3",
   "metadata": {},
   "outputs": [],
   "source": [
    "addr_aliases =\t{'전라북도':'전북특별자치도'}"
   ]
  },
  {
   "cell_type": "code",
   "execution_count": 25,
   "id": "26445d12-c7d5-4a09-8d51-3be069fbe562",
   "metadata": {},
   "outputs": [],
   "source": [
    "pensionDF['시도'] = pensionDF['시도'].apply(lambda\tv: addr_aliases.get(v, v))"
   ]
  },
  {
   "cell_type": "markdown",
   "id": "c02ead97-1678-4261-9dcb-6d6a3289cad9",
   "metadata": {},
   "source": [
    "## <hr>Group Area "
   ]
  },
  {
   "cell_type": "code",
   "execution_count": 26,
   "id": "aebfe635-b994-46c9-b00c-8a682ed7f1ce",
   "metadata": {},
   "outputs": [
    {
     "data": {
      "text/html": [
       "<div>\n",
       "<style scoped>\n",
       "    .dataframe tbody tr th:only-of-type {\n",
       "        vertical-align: middle;\n",
       "    }\n",
       "\n",
       "    .dataframe tbody tr th {\n",
       "        vertical-align: top;\n",
       "    }\n",
       "\n",
       "    .dataframe thead th {\n",
       "        text-align: right;\n",
       "    }\n",
       "</style>\n",
       "<table border=\"1\" class=\"dataframe\">\n",
       "  <thead>\n",
       "    <tr style=\"text-align: right;\">\n",
       "      <th></th>\n",
       "      <th>가입자수</th>\n",
       "      <th>당월고지금액</th>\n",
       "    </tr>\n",
       "    <tr>\n",
       "      <th>시도</th>\n",
       "      <th></th>\n",
       "      <th></th>\n",
       "    </tr>\n",
       "  </thead>\n",
       "  <tbody>\n",
       "    <tr>\n",
       "      <th>강원도</th>\n",
       "      <td>211064</td>\n",
       "      <td>52856095500</td>\n",
       "    </tr>\n",
       "    <tr>\n",
       "      <th>경기도</th>\n",
       "      <td>2308050</td>\n",
       "      <td>651508329040</td>\n",
       "    </tr>\n",
       "    <tr>\n",
       "      <th>경상남도</th>\n",
       "      <td>514580</td>\n",
       "      <td>141737950840</td>\n",
       "    </tr>\n",
       "    <tr>\n",
       "      <th>경상북도</th>\n",
       "      <td>433856</td>\n",
       "      <td>121205828180</td>\n",
       "    </tr>\n",
       "    <tr>\n",
       "      <th>광주광역시</th>\n",
       "      <td>190773</td>\n",
       "      <td>47680338180</td>\n",
       "    </tr>\n",
       "  </tbody>\n",
       "</table>\n",
       "</div>"
      ],
      "text/plain": [
       "          가입자수        당월고지금액\n",
       "시도                          \n",
       "강원도     211064   52856095500\n",
       "경기도    2308050  651508329040\n",
       "경상남도    514580  141737950840\n",
       "경상북도    433856  121205828180\n",
       "광주광역시   190773   47680338180"
      ]
     },
     "execution_count": 26,
     "metadata": {},
     "output_type": "execute_result"
    }
   ],
   "source": [
    "group_area = pensionDF.groupby([\"시도\"]).sum(numeric_only=True)\n",
    "group_area.head()"
   ]
  },
  {
   "cell_type": "code",
   "execution_count": 27,
   "id": "b91f536f-64bf-4b4f-afe3-b340920f9068",
   "metadata": {},
   "outputs": [],
   "source": [
    "group_area[\"div\"] = group_area[\"당월고지금액\"] / group_area[\"가입자수\"]"
   ]
  },
  {
   "cell_type": "code",
   "execution_count": 28,
   "id": "061f7836-fd37-418c-95ea-ff82b626470b",
   "metadata": {},
   "outputs": [],
   "source": [
    "group_area = group_area.sort_values(\"div\", ascending=False)"
   ]
  },
  {
   "cell_type": "code",
   "execution_count": 29,
   "id": "6ac8eedb-da5d-444f-a1e3-c78e9345c397",
   "metadata": {
    "scrolled": true
   },
   "outputs": [],
   "source": [
    "\n",
    "# group_area = group_area.drop(\"황해북도\")\n",
    "# group_area"
   ]
  },
  {
   "cell_type": "code",
   "execution_count": 30,
   "id": "d8b6d9bc-3234-433c-b160-0070f83642fd",
   "metadata": {
    "scrolled": true
   },
   "outputs": [
    {
     "name": "stdout",
     "output_type": "stream",
     "text": [
      "================울산광역시================\n",
      "441674    현대중공업주식회사\n",
      "29765        근로복지공단\n",
      "166808    (주)현대미포조선\n",
      "Name: 사업장명, dtype: object\n",
      "company = ['현대중공업주식회사']\n",
      "================서울특별시================\n",
      "3587        현대자동차(주)\n",
      "14886        엘지전자(주)\n",
      "173065    엘지디스플레이(주)\n",
      "Name: 사업장명, dtype: object\n",
      "company = ['현대중공업주식회사', '현대자동차(주)']\n",
      "================경기도================\n",
      "4636            삼성전자(주)\n",
      "156145    에스케이하이닉스 주식회사\n",
      "222140       삼성디스플레이(주)\n",
      "Name: 사업장명, dtype: object\n",
      "company = ['현대중공업주식회사', '현대자동차(주)', '삼성전자(주)']\n",
      "================충청남도================\n",
      "50803     현대제철주식회사당진공장\n",
      "111353      현대트랜시스주식회사\n",
      "51328           코웨이(주)\n",
      "Name: 사업장명, dtype: object\n",
      "company = ['현대중공업주식회사', '현대자동차(주)', '삼성전자(주)', '현대제철주식회사당진공장']\n",
      "================경상북도================\n",
      "165340        (주)포스코\n",
      "12293     한국수력원자력(주)\n",
      "156766        한국도로공사\n",
      "Name: 사업장명, dtype: object\n",
      "company = ['현대중공업주식회사', '현대자동차(주)', '삼성전자(주)', '현대제철주식회사당진공장', '(주)포스코']\n",
      "================경상남도================\n",
      "166384    삼성중공업(주)거제조선소\n",
      "165421        대우조선해양(주)\n",
      "180061         한국토지주택공사\n",
      "Name: 사업장명, dtype: object\n",
      "company = ['현대중공업주식회사', '현대자동차(주)', '삼성전자(주)', '현대제철주식회사당진공장', '(주)포스코', '삼성중공업(주)거제조선소']\n",
      "================세종특별자치시================\n",
      "232964                  한국콜마주식회사\n",
      "173459    콘티넨탈 오토모티브 일렉트로닉스 유한회사\n",
      "389553         세종특별자치시교육청(교육복지과)\n",
      "Name: 사업장명, dtype: object\n",
      "company = ['현대중공업주식회사', '현대자동차(주)', '삼성전자(주)', '현대제철주식회사당진공장', '(주)포스코', '삼성중공업(주)거제조선소', '한국콜마주식회사']\n",
      "================대전광역시================\n",
      "5094        한국철도공사\n",
      "161487     한국수자원공사\n",
      "161730    (주)케이티앤지\n",
      "Name: 사업장명, dtype: object\n",
      "company = ['현대중공업주식회사', '현대자동차(주)', '삼성전자(주)', '현대제철주식회사당진공장', '(주)포스코', '삼성중공업(주)거제조선소', '한국콜마주식회사', '한국철도공사']\n",
      "================인천광역시================\n",
      "18520            한국지엠주식회사\n",
      "421642    지엠테크니컬센터코리아주식회사\n",
      "102696         두산인프라코어(주)\n",
      "Name: 사업장명, dtype: object\n",
      "company = ['현대중공업주식회사', '현대자동차(주)', '삼성전자(주)', '현대제철주식회사당진공장', '(주)포스코', '삼성중공업(주)거제조선소', '한국콜마주식회사', '한국철도공사', '한국지엠주식회사']\n",
      "================전라남도================\n",
      "3531        한국전력공사\n",
      "3480      한전KPS(주)\n",
      "157613     한국농어촌공사\n",
      "Name: 사업장명, dtype: object\n",
      "company = ['현대중공업주식회사', '현대자동차(주)', '삼성전자(주)', '현대제철주식회사당진공장', '(주)포스코', '삼성중공업(주)거제조선소', '한국콜마주식회사', '한국철도공사', '한국지엠주식회사', '한국전력공사']\n",
      "================충청북도================\n",
      "50951       매그나칩반도체유한회사\n",
      "299056            (주)심텍\n",
      "160515    엘에스일렉트릭(주) 청주\n",
      "Name: 사업장명, dtype: object\n",
      "company = ['현대중공업주식회사', '현대자동차(주)', '삼성전자(주)', '현대제철주식회사당진공장', '(주)포스코', '삼성중공업(주)거제조선소', '한국콜마주식회사', '한국철도공사', '한국지엠주식회사', '한국전력공사', '매그나칩반도체유한회사']\n",
      "================부산광역시================\n",
      "114315    르노삼성자동차(주)\n",
      "90089         부산교통공사\n",
      "89403        (주)부산은행\n",
      "Name: 사업장명, dtype: object\n",
      "company = ['현대중공업주식회사', '현대자동차(주)', '삼성전자(주)', '현대제철주식회사당진공장', '(주)포스코', '삼성중공업(주)거제조선소', '한국콜마주식회사', '한국철도공사', '한국지엠주식회사', '한국전력공사', '매그나칩반도체유한회사', '르노삼성자동차(주)']\n",
      "================대구광역시================\n",
      "3094       한국가스공사\n",
      "96265    주식회사대구은행\n",
      "1322       신용보증기금\n",
      "Name: 사업장명, dtype: object\n",
      "company = ['현대중공업주식회사', '현대자동차(주)', '삼성전자(주)', '현대제철주식회사당진공장', '(주)포스코', '삼성중공업(주)거제조선소', '한국콜마주식회사', '한국철도공사', '한국지엠주식회사', '한국전력공사', '매그나칩반도체유한회사', '르노삼성자동차(주)', '한국가스공사']\n",
      "================강원도================\n",
      "4184       국민건강보험공단\n",
      "104382      (주)강원랜드\n",
      "2966      건강보험심사평가원\n",
      "Name: 사업장명, dtype: object\n",
      "company = ['현대중공업주식회사', '현대자동차(주)', '삼성전자(주)', '현대제철주식회사당진공장', '(주)포스코', '삼성중공업(주)거제조선소', '한국콜마주식회사', '한국철도공사', '한국지엠주식회사', '한국전력공사', '매그나칩반도체유한회사', '르노삼성자동차(주)', '한국가스공사', '국민건강보험공단']\n",
      "================광주광역시================\n",
      "108067     기아자동차(주)광주공장\n",
      "108379    앰코테크놀로지코리아(주)\n",
      "162357        금호타이어주식회사\n",
      "Name: 사업장명, dtype: object\n",
      "company = ['현대중공업주식회사', '현대자동차(주)', '삼성전자(주)', '현대제철주식회사당진공장', '(주)포스코', '삼성중공업(주)거제조선소', '한국콜마주식회사', '한국철도공사', '한국지엠주식회사', '한국전력공사', '매그나칩반도체유한회사', '르노삼성자동차(주)', '한국가스공사', '국민건강보험공단', '기아자동차(주)광주공장']\n",
      "================전북특별자치도================\n",
      "3266        국민연금공단\n",
      "3707      한국전기안전공사\n",
      "162481    (주)세아베스틸\n",
      "Name: 사업장명, dtype: object\n",
      "company = ['현대중공업주식회사', '현대자동차(주)', '삼성전자(주)', '현대제철주식회사당진공장', '(주)포스코', '삼성중공업(주)거제조선소', '한국콜마주식회사', '한국철도공사', '한국지엠주식회사', '한국전력공사', '매그나칩반도체유한회사', '르노삼성자동차(주)', '한국가스공사', '국민건강보험공단', '기아자동차(주)광주공장', '국민연금공단']\n",
      "================제주특별자치도================\n",
      "62069    주식회사 카카오\n",
      "55647     (주)제주항공\n",
      "13584      네오플(주)\n",
      "Name: 사업장명, dtype: object\n",
      "company = ['현대중공업주식회사', '현대자동차(주)', '삼성전자(주)', '현대제철주식회사당진공장', '(주)포스코', '삼성중공업(주)거제조선소', '한국콜마주식회사', '한국철도공사', '한국지엠주식회사', '한국전력공사', '매그나칩반도체유한회사', '르노삼성자동차(주)', '한국가스공사', '국민건강보험공단', '기아자동차(주)광주공장', '국민연금공단', '주식회사 카카오']\n"
     ]
    }
   ],
   "source": [
    "col_list = group_area.index.to_list()\n",
    "company = []\n",
    "for col in col_list:\n",
    "    print(f\"================{col}================\")\n",
    "    print(pensionDF[pensionDF[\"시도\"]==col].sort_values(\"당월고지금액\", ascending=False).head(3)[\"사업장명\"])\n",
    "    sr = pensionDF[pensionDF[\"시도\"]==col].sort_values(\"당월고지금액\", ascending=False).head(1)[\"사업장명\"]\n",
    "    company += sr.to_list()\n",
    "    print(f\"company = {company}\")"
   ]
  },
  {
   "cell_type": "code",
   "execution_count": null,
   "id": "f905cda4-3248-4a97-b98c-ae8241cea0bd",
   "metadata": {},
   "outputs": [],
   "source": [
    "plt.figure(figsize=(20, 10))\n",
    "x = group_area.index.to_list()\n",
    "y = group_area[\"div\"].to_list()\n",
    "bar = plt.bar(x, y, color = 'pink')\n",
    "plt.xticks(rotation=70)\n",
    "plt.ylim(200000, 320000)\n",
    "plt.rc('xtick', labelsize=20)\n",
    "plt.rc('ytick', labelsize=20)\n",
    "#company = [\"에이치디현대중공업주식회사\", \"현대자동차(주)\", \"삼성전자(주)\", \"주식회사포스코\", \"5\", \"6\", \"7\", \"8\", \"9\", \"10\", \"11\", \"12\", \"13\", \"14\", \"15\", \"16\", \"주식회사 카카오\"]\n",
    "idx = 0\n",
    "plt.title(\"2020_07\", fontsize=20)\n",
    "# 숫자 넣는 부분\n",
    "for rect in bar:\n",
    "    height = rect.get_height()\n",
    "    plt.text(rect.get_x() + rect.get_width()/2.0, height, company[idx], ha='center', va='bottom', size = 15, rotation=90)\n",
    "    idx += 1"
   ]
  },
  {
   "cell_type": "code",
   "execution_count": 32,
   "id": "fea497aa-d14f-49b3-811e-adf0161d7228",
   "metadata": {},
   "outputs": [
    {
     "data": {
      "text/plain": [
       "['현대중공업주식회사',\n",
       " '현대자동차(주)',\n",
       " '삼성전자(주)',\n",
       " '현대제철주식회사당진공장',\n",
       " '(주)포스코',\n",
       " '삼성중공업(주)거제조선소',\n",
       " '한국콜마주식회사',\n",
       " '한국철도공사',\n",
       " '한국지엠주식회사',\n",
       " '한국전력공사',\n",
       " '매그나칩반도체유한회사',\n",
       " '르노삼성자동차(주)',\n",
       " '한국가스공사',\n",
       " '국민건강보험공단',\n",
       " '기아자동차(주)광주공장',\n",
       " '국민연금공단',\n",
       " '주식회사 카카오']"
      ]
     },
     "execution_count": 32,
     "metadata": {},
     "output_type": "execute_result"
    }
   ],
   "source": [
    "company"
   ]
  },
  {
   "cell_type": "code",
   "execution_count": null,
   "id": "0c475575-afa2-4d52-8385-f9d3fd38a10d",
   "metadata": {},
   "outputs": [],
   "source": []
  },
  {
   "cell_type": "code",
   "execution_count": null,
   "id": "1672c467-a871-4a45-a596-0e430be72701",
   "metadata": {},
   "outputs": [],
   "source": []
  },
  {
   "cell_type": "code",
   "execution_count": null,
   "id": "a8d8b962-ed0f-48bb-aba9-13f920a3d07c",
   "metadata": {},
   "outputs": [],
   "source": []
  }
 ],
 "metadata": {
  "kernelspec": {
   "display_name": "Python 3 (ipykernel)",
   "language": "python",
   "name": "python3"
  },
  "language_info": {
   "codemirror_mode": {
    "name": "ipython",
    "version": 3
   },
   "file_extension": ".py",
   "mimetype": "text/x-python",
   "name": "python",
   "nbconvert_exporter": "python",
   "pygments_lexer": "ipython3",
   "version": "3.8.18"
  }
 },
 "nbformat": 4,
 "nbformat_minor": 5
}
